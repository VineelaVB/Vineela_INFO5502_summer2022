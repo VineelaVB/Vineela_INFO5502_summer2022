{
  "cells": [
    {
      "cell_type": "markdown",
      "metadata": {
        "id": "view-in-github",
        "colab_type": "text"
      },
      "source": [
        "<a href=\"https://colab.research.google.com/github/VineelaVB/Vineela_INFO5502_summer2022/blob/main/lab_assignment_03.ipynb\" target=\"_parent\"><img src=\"https://colab.research.google.com/assets/colab-badge.svg\" alt=\"Open In Colab\"/></a>"
      ]
    },
    {
      "cell_type": "markdown",
      "metadata": {
        "id": "1EY3rjyF1mQm"
      },
      "source": [
        "## The third Lab-assignment (07/22/2022 11:59'AM' - 07/26/2022 11:59PM, 50 points in total)"
      ]
    },
    {
      "cell_type": "markdown",
      "metadata": {
        "id": "J75IxfNI1mQu"
      },
      "source": [
        "The purpose of this exercise is to understand users' information needs, then collect data from different sources for analysis."
      ]
    },
    {
      "cell_type": "markdown",
      "metadata": {
        "id": "BpqfGEio1mQv"
      },
      "source": [
        "Question 1 (10 points). Fomulate your domain problem: Describe an interesting research question (or practical question) you have in mind, what kind of data should be collected to answer the question(s)? How many data needed for the analysis? The detail steps for collecting and save the data. "
      ]
    },
    {
      "cell_type": "code",
      "execution_count": null,
      "metadata": {
        "id": "kFsMwcM61mQw"
      },
      "outputs": [],
      "source": [
        "# Your answer here (no code for this question, write down your answer as detail as possible for the above questions):\n",
        "\n",
        "'''\n",
        "Please write you answer here:\n",
        "What are the factors that contribute to heart disease?\n",
        "The data required to answer the research question above include the age of an individual, the cholesterol level, number of cigarettes they smoke per day, \n",
        "and their whether they have heart disease or not. The data required to investigate the research questions include three independent variables and one dependent \n",
        "variable. The three independent variables are age, cigs per day and cholesterol level, while the dependent variable is whether an individual has heart disease \n",
        "or not. Around 500 to 1,000 data is required to answer the research question in the four different variables.\n",
        "Steps to collect the data:- \n",
        "1. The data is randomly generated using python libraries.\n",
        "2. A dataframe is then made from the data generated.\n",
        "3. Merge the dataframes into a single dataset.\n",
        "4. Write the dataset to a .csv data file\n",
        "5. You can access the .csv datafile and use it to answer the research question \n",
        "\n",
        "\n",
        "\n",
        "'''"
      ]
    },
    {
      "cell_type": "markdown",
      "metadata": {
        "id": "q1NjVy5r1mQx"
      },
      "source": [
        "Question 2 (30 points). Collect your data to answer the research problem: Write python code to collect 1000 data samples you discussed above."
      ]
    },
    {
      "cell_type": "code",
      "execution_count": null,
      "metadata": {
        "colab": {
          "base_uri": "https://localhost:8080/"
        },
        "id": "qgFH2fwO1mQy",
        "outputId": "16dab338-7aca-4f65-ef09-9ba66f22e3f0"
      },
      "outputs": [
        {
          "output_type": "stream",
          "name": "stdout",
          "text": [
            "The shape of the sample collected:  (1000, 4)\n",
            "\n",
            "\n",
            "   Heart Disease  Cholesterol  Cigs per Day  Age\n",
            "0              0          260             7   25\n",
            "1              0          337            30   58\n",
            "2              0          134             3   68\n",
            "3              1          176             2   43\n",
            "4              1          141            30   33\n"
          ]
        }
      ],
      "source": [
        "# You code here (Please add comments in the code):\n",
        "from random import randint\n",
        "import pandas as pd\n",
        "import numpy as np\n",
        "import csv\n",
        "\n",
        "# for loop to that loops for 1000 times\n",
        "for h in range(1001):\n",
        "  #generate date of whether an individual has heart disease or not, 1 = has heart disease while 0 = doesnt have heart disease\n",
        "  hd = [randint(0, 1) for _ in range(random_int)]\n",
        "  # Generate the cholesterol level of an individual\n",
        "  chol = [randint(100, 340) for _ in range(random_int)]\n",
        "  #generate the number cigarette a person smokes\n",
        "  cigs = [randint(1, 34) for _ in range(random_int)]\n",
        "  #generate the age of an individual\n",
        "  age = [randint(20, 100) for _ in range(random_int)]\n",
        "#create dataframes for heart disease, cholesterol, cigs per day and age\n",
        "df1 = pd.DataFrame (hd, columns = ['Heart Disease'])\n",
        "df2 = pd.DataFrame (chol, columns = ['Cholesterol'])\n",
        "df3 = pd.DataFrame (cigs, columns = ['Cigs per Day'])\n",
        "df4 = pd.DataFrame (age, columns = ['Age'])\n",
        "\n",
        "#combine the dataframes\n",
        "df = pd.concat([df1,df2, df3, df4],axis=1)\n",
        "print('The shape of the sample collected: ',df.shape)\n",
        "print('\\n')\n",
        "print(df.head())\n",
        "#output the dataset into a csv file\n",
        "df.to_csv('HeartDisease.csv')\n",
        "\n",
        "\n",
        "\n",
        "\n",
        "\n",
        "\n",
        "\n",
        "\n",
        "\n"
      ]
    },
    {
      "cell_type": "markdown",
      "metadata": {
        "id": "N3vPVr4z1mQy"
      },
      "source": [
        "Question 3 (10 points). Understand the data quality: Search a second hand dataset (any dataset) from kaggle or other websites. Describe the data quality problem of the dataset and explain your strtegy to clean the data."
      ]
    },
    {
      "cell_type": "code",
      "execution_count": null,
      "metadata": {
        "id": "7jbljGbC1mQz"
      },
      "outputs": [],
      "source": [
        "# Your answer here (no code for this question, write down your answer as detail as possible for the above questions):\n",
        "'''\n",
        "\n",
        "Please write you answer here:\n",
        "The Framingham heart dataset has a high quality and it is available in https://www.kaggle.com/datasets/aasheesh200/framingham-heart-study-dataset.\n",
        "In contrast to the original function, which continually overstated real risk, the Framingham function tailored to local demographic features correctly \n",
        "and reliably forecasted the 5-year CHD risk for patients aged 35–74 years.\n",
        "\n",
        "The strategy to clean the data is as follows:-\n",
        "1. Errors in the monitor\n",
        "Keep a log of where your mistakes are coming from so that you can avoid repeating them. This will greatly simplify the process of locating and correcting data that is wrong or corrupt. If you're linking your fleet management software with other systems, keeping detailed records is extremely critical to avoid clogging up the work of other departments with your mistakes.\n",
        "\n",
        "2. Standardise workflow and procedures.\n",
        "\n",
        "To limit the possibility of repetition, standardise the point of entry.\n",
        "\n",
        "\n",
        "3. Verify the correctness of the data\n",
        "\n",
        "Validate the correctness of your data once you've cleansed your current database. Inquire about and invest in real-time data cleaning technologies. In certain cases, artificial intelligence (AI) or machine learning (ML) is used to improve the tools' accuracy testing.\n",
        "\n",
        "4. Remove duplicates.\n",
        "\n",
        "Analyze data more quickly by removing duplicates. There are several data cleaning solutions that can evaluate raw data in bulk, allowing you to avoid repetitive data.\n",
        "\n",
        "\n",
        "\n",
        "\n",
        "'''"
      ]
    }
  ],
  "metadata": {
    "kernelspec": {
      "display_name": "Python 3 (ipykernel)",
      "language": "python",
      "name": "python3"
    },
    "language_info": {
      "codemirror_mode": {
        "name": "ipython",
        "version": 3
      },
      "file_extension": ".py",
      "mimetype": "text/x-python",
      "name": "python",
      "nbconvert_exporter": "python",
      "pygments_lexer": "ipython3",
      "version": "3.9.12"
    },
    "vscode": {
      "interpreter": {
        "hash": "5c6a7f839effdddf35473dacbb9a8184e57ebbba5133cab03b12e4f28d4f0d0f"
      }
    },
    "colab": {
      "name": "lab_assignment_03.ipynb",
      "provenance": [],
      "collapsed_sections": [],
      "include_colab_link": true
    }
  },
  "nbformat": 4,
  "nbformat_minor": 0
}