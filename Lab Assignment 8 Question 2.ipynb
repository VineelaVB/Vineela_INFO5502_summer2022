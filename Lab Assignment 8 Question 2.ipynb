{
  "metadata": {
    "language_info": {
      "codemirror_mode": {
        "name": "python",
        "version": 3
      },
      "file_extension": ".py",
      "mimetype": "text/x-python",
      "name": "python",
      "nbconvert_exporter": "python",
      "pygments_lexer": "ipython3",
      "version": "3.8"
    },
    "kernelspec": {
      "name": "python",
      "display_name": "Python (Pyodide)",
      "language": "python"
    }
  },
  "nbformat_minor": 4,
  "nbformat": 4,
  "cells": [
    {
      "cell_type": "code",
      "source": "children = [ 40.3,55.0,45.7,43.4,50.3,45.9,53.5,43.0,4.2,44.0,33.6,55.1,48.8,50.4,37.8,60.3,46.6,47.4,44.0]\nadult = [20.0,30.2,2.2,7.5,4.4,22.2,16.6,14.5,21.4,3.3,10.0,1.0,4.4,1.3,8.1,6.6,7.8,10.6,10.6,16.2,14.5,4.1,2.4,3.5,8.5,4.7,18.4]\n\n\nimport pandas as pd\nimport matplotlib.pyplot as plot\n",
      "metadata": {
        "trusted": true
      },
      "execution_count": 5,
      "outputs": []
    },
    {
      "cell_type": "code",
      "source": "df=pd.DataFrame(list(zip(children,adult)),columns=['children','adult'])\ndf",
      "metadata": {
        "trusted": true
      },
      "execution_count": 7,
      "outputs": [
        {
          "execution_count": 7,
          "output_type": "execute_result",
          "data": {
            "text/plain": "    children  adult\n0       40.3   20.0\n1       55.0   30.2\n2       45.7    2.2\n3       43.4    7.5\n4       50.3    4.4\n5       45.9   22.2\n6       53.5   16.6\n7       43.0   14.5\n8        4.2   21.4\n9       44.0    3.3\n10      33.6   10.0\n11      55.1    1.0\n12      48.8    4.4\n13      50.4    1.3\n14      37.8    8.1\n15      60.3    6.6\n16      46.6    7.8\n17      47.4   10.6\n18      44.0   10.6",
            "text/html": "<div>\n<style scoped>\n    .dataframe tbody tr th:only-of-type {\n        vertical-align: middle;\n    }\n\n    .dataframe tbody tr th {\n        vertical-align: top;\n    }\n\n    .dataframe thead th {\n        text-align: right;\n    }\n</style>\n<table border=\"1\" class=\"dataframe\">\n  <thead>\n    <tr style=\"text-align: right;\">\n      <th></th>\n      <th>children</th>\n      <th>adult</th>\n    </tr>\n  </thead>\n  <tbody>\n    <tr>\n      <th>0</th>\n      <td>40.3</td>\n      <td>20.0</td>\n    </tr>\n    <tr>\n      <th>1</th>\n      <td>55.0</td>\n      <td>30.2</td>\n    </tr>\n    <tr>\n      <th>2</th>\n      <td>45.7</td>\n      <td>2.2</td>\n    </tr>\n    <tr>\n      <th>3</th>\n      <td>43.4</td>\n      <td>7.5</td>\n    </tr>\n    <tr>\n      <th>4</th>\n      <td>50.3</td>\n      <td>4.4</td>\n    </tr>\n    <tr>\n      <th>5</th>\n      <td>45.9</td>\n      <td>22.2</td>\n    </tr>\n    <tr>\n      <th>6</th>\n      <td>53.5</td>\n      <td>16.6</td>\n    </tr>\n    <tr>\n      <th>7</th>\n      <td>43.0</td>\n      <td>14.5</td>\n    </tr>\n    <tr>\n      <th>8</th>\n      <td>4.2</td>\n      <td>21.4</td>\n    </tr>\n    <tr>\n      <th>9</th>\n      <td>44.0</td>\n      <td>3.3</td>\n    </tr>\n    <tr>\n      <th>10</th>\n      <td>33.6</td>\n      <td>10.0</td>\n    </tr>\n    <tr>\n      <th>11</th>\n      <td>55.1</td>\n      <td>1.0</td>\n    </tr>\n    <tr>\n      <th>12</th>\n      <td>48.8</td>\n      <td>4.4</td>\n    </tr>\n    <tr>\n      <th>13</th>\n      <td>50.4</td>\n      <td>1.3</td>\n    </tr>\n    <tr>\n      <th>14</th>\n      <td>37.8</td>\n      <td>8.1</td>\n    </tr>\n    <tr>\n      <th>15</th>\n      <td>60.3</td>\n      <td>6.6</td>\n    </tr>\n    <tr>\n      <th>16</th>\n      <td>46.6</td>\n      <td>7.8</td>\n    </tr>\n    <tr>\n      <th>17</th>\n      <td>47.4</td>\n      <td>10.6</td>\n    </tr>\n    <tr>\n      <th>18</th>\n      <td>44.0</td>\n      <td>10.6</td>\n    </tr>\n  </tbody>\n</table>\n</div>"
          },
          "metadata": {}
        }
      ]
    },
    {
      "cell_type": "code",
      "source": "df.describe()",
      "metadata": {
        "trusted": true
      },
      "execution_count": 16,
      "outputs": [
        {
          "execution_count": 16,
          "output_type": "execute_result",
          "data": {
            "text/plain": "        children      adult\ncount  19.000000  19.000000\nmean   44.700000  10.668421\nstd    11.702421   8.145486\nmin     4.200000   1.000000\n25%    43.200000   4.400000\n50%    45.900000   8.100000\n75%    50.350000  15.550000\nmax    60.300000  30.200000",
            "text/html": "<div>\n<style scoped>\n    .dataframe tbody tr th:only-of-type {\n        vertical-align: middle;\n    }\n\n    .dataframe tbody tr th {\n        vertical-align: top;\n    }\n\n    .dataframe thead th {\n        text-align: right;\n    }\n</style>\n<table border=\"1\" class=\"dataframe\">\n  <thead>\n    <tr style=\"text-align: right;\">\n      <th></th>\n      <th>children</th>\n      <th>adult</th>\n    </tr>\n  </thead>\n  <tbody>\n    <tr>\n      <th>count</th>\n      <td>19.000000</td>\n      <td>19.000000</td>\n    </tr>\n    <tr>\n      <th>mean</th>\n      <td>44.700000</td>\n      <td>10.668421</td>\n    </tr>\n    <tr>\n      <th>std</th>\n      <td>11.702421</td>\n      <td>8.145486</td>\n    </tr>\n    <tr>\n      <th>min</th>\n      <td>4.200000</td>\n      <td>1.000000</td>\n    </tr>\n    <tr>\n      <th>25%</th>\n      <td>43.200000</td>\n      <td>4.400000</td>\n    </tr>\n    <tr>\n      <th>50%</th>\n      <td>45.900000</td>\n      <td>8.100000</td>\n    </tr>\n    <tr>\n      <th>75%</th>\n      <td>50.350000</td>\n      <td>15.550000</td>\n    </tr>\n    <tr>\n      <th>max</th>\n      <td>60.300000</td>\n      <td>30.200000</td>\n    </tr>\n  </tbody>\n</table>\n</div>"
          },
          "metadata": {}
        }
      ]
    },
    {
      "cell_type": "code",
      "source": "\n",
      "metadata": {
        "trusted": true
      },
      "execution_count": null,
      "outputs": []
    },
    {
      "cell_type": "code",
      "source": "my_dict = {'children': children, 'adult': adult}\n\nfig, ax = plot.subplots()\nax.boxplot(my_dict.values())\nax.set_xticklabels(my_dict.keys())\nplot.show()",
      "metadata": {
        "trusted": true
      },
      "execution_count": 15,
      "outputs": [
        {
          "output_type": "display_data",
          "data": {
            "text/plain": "<pyolite.display.Image at 0x5873060>",
            "image/png": "[encoded data removed]"
          },
          "metadata": {}
        }
      ]
    },
    {
      "cell_type": "code",
      "source": "",
      "metadata": {
        "trusted": true
      },
      "execution_count": null,
      "outputs": []
    },
    {
      "cell_type": "code",
      "source": "from scipy import stats\nstats.ttest_ind(adult,children)",
      "metadata": {
        "trusted": true
      },
      "execution_count": 11,
      "outputs": [
        {
          "execution_count": 11,
          "output_type": "execute_result",
          "data": {
            "text/plain": "Ttest_indResult(statistic=-12.147673493843294, pvalue=1.1928732107278352e-15)"
          },
          "metadata": {}
        }
      ]
    },
    {
      "cell_type": "code",
      "source": "",
      "metadata": {
        "trusted": true
      },
      "execution_count": null,
      "outputs": []
    },
    {
      "cell_type": "code",
      "source": "",
      "metadata": {},
      "execution_count": null,
      "outputs": []
    }
  ]
}