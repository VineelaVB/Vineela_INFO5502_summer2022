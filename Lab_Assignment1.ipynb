{
  "nbformat": 4,
  "nbformat_minor": 0,
  "metadata": {
    "colab": {
      "name": "Lab_Assignment1.ipynb",
      "provenance": [],
      "authorship_tag": "ABX9TyNuOcCDQMp8y96katSvg4xV",
      "include_colab_link": true
    },
    "kernelspec": {
      "name": "python3",
      "display_name": "Python 3"
    },
    "language_info": {
      "name": "python"
    }
  },
  "cells": [
    {
      "cell_type": "markdown",
      "metadata": {
        "id": "view-in-github",
        "colab_type": "text"
      },
      "source": [
        "<a href=\"https://colab.research.google.com/github/VineelaVB/Vineela_INFO5502_summer2022/blob/main/Lab_Assignment1.ipynb\" target=\"_parent\"><img src=\"https://colab.research.google.com/assets/colab-badge.svg\" alt=\"Open In Colab\"/></a>"
      ]
    },
    {
      "cell_type": "code",
      "execution_count": 1,
      "metadata": {
        "colab": {
          "base_uri": "https://localhost:8080/"
        },
        "id": "vxxnME76ZYeH",
        "outputId": "600c6f7a-aac2-422b-f055-2ebe743d9bb9"
      },
      "outputs": [
        {
          "output_type": "stream",
          "name": "stdout",
          "text": [
            "Google\n",
            "{'G': 1, 'o': 2, 'g': 1, 'l': 1, 'e': 1}\n"
          ]
        }
      ],
      "source": [
        "# write your answer here\n",
        "\n",
        "def char_frequency(str1):\n",
        "    dict = {}\n",
        "    for n in str1:\n",
        "        keys = dict.keys()\n",
        "        if n in keys:\n",
        "            dict[n] += 1\n",
        "        else:\n",
        "            dict[n] = 1\n",
        "    return dict\n",
        "name = input()\n",
        "\n",
        "print(char_frequency(name))\n"
      ]
    },
    {
      "cell_type": "code",
      "source": [
        "# write your answer here\n",
        "\n",
        "\n",
        "# Python program to find sum of elements in list\n",
        " \n",
        "# creating a list\n",
        "lst = []\n",
        "  \n",
        "# number of elements as input\n",
        "n = int(input(\"Enter number of elements : \"))\n",
        "  \n",
        "# iterating till the range\n",
        "for i in range(0, n):\n",
        "    ele = int(input())\n",
        "  \n",
        "    lst.append(ele)\n",
        "\n",
        " \n",
        "# using sum() function\n",
        "total = sum(lst)\n",
        " \n",
        "# printing total value\n",
        "print(total)"
      ],
      "metadata": {
        "colab": {
          "base_uri": "https://localhost:8080/"
        },
        "id": "iktHSCURZkQd",
        "outputId": "f1e01496-b5af-41e2-b9c4-550bd113a73e"
      },
      "execution_count": 2,
      "outputs": [
        {
          "output_type": "stream",
          "name": "stdout",
          "text": [
            "Enter number of elements : 5\n",
            "2\n",
            "3\n",
            "2\n",
            "4\n",
            "4\n",
            "15\n"
          ]
        }
      ]
    },
    {
      "cell_type": "code",
      "source": [
        "# write your answer here\n",
        "def change_char(str1):\n",
        "  char = str1[0]\n",
        "  str1 = str1.replace(char, '$')\n",
        "  str1 = char + str1[1:]\n",
        "\n",
        "  return str1\n",
        "name = input()\n",
        "print(change_char(name))"
      ],
      "metadata": {
        "colab": {
          "base_uri": "https://localhost:8080/"
        },
        "id": "AlcF4CVdZq69",
        "outputId": "47abb0f5-fb05-42b9-e86e-dce7c9e836e9"
      },
      "execution_count": 3,
      "outputs": [
        {
          "output_type": "stream",
          "name": "stdout",
          "text": [
            "restart\n",
            "resta$t\n"
          ]
        }
      ]
    },
    {
      "cell_type": "code",
      "source": [
        "# write your answer here\n",
        "\n",
        "a=int(input())\n",
        "b=int(input())\n",
        "S=3.14*(b**3+a**3)/(b**3)\n",
        "print(S)"
      ],
      "metadata": {
        "colab": {
          "base_uri": "https://localhost:8080/"
        },
        "id": "FgbVhFGdaCYN",
        "outputId": "dea27022-cbba-497e-d30d-e448b41b0ac4"
      },
      "execution_count": 5,
      "outputs": [
        {
          "output_type": "stream",
          "name": "stdout",
          "text": [
            "3\n",
            "1\n",
            "87.92\n"
          ]
        }
      ]
    },
    {
      "cell_type": "code",
      "source": [
        "# write your answer here\n",
        "\n",
        "tuplex = (\"w\", 3, \"r\", \"e\", \"s\", \"o\", \"u\", \"r\", \"c\", \"e\")\n",
        "print(\"r\" in tuplex)\n",
        "print(5 in tuplex)"
      ],
      "metadata": {
        "colab": {
          "base_uri": "https://localhost:8080/"
        },
        "id": "Iltm5K5OaWph",
        "outputId": "d35fd085-1f2c-4fcc-f344-85ffbe6c9efe"
      },
      "execution_count": 6,
      "outputs": [
        {
          "output_type": "stream",
          "name": "stdout",
          "text": [
            "True\n",
            "False\n"
          ]
        }
      ]
    },
    {
      "cell_type": "code",
      "source": [
        "# write your answer here\n",
        "dic1={1:10, 2:20}\n",
        "dic2={3:30, 4:40}\n",
        "dic3={5:50,6:60}\n",
        "dic4 = {}\n",
        "for d in (dic1, dic2, dic3): dic4.update(d)\n",
        "print(dic4)"
      ],
      "metadata": {
        "colab": {
          "base_uri": "https://localhost:8080/"
        },
        "id": "tfja53CTd87v",
        "outputId": "744ba51f-1103-4de4-f619-cce80dc9b0be"
      },
      "execution_count": 9,
      "outputs": [
        {
          "output_type": "stream",
          "name": "stdout",
          "text": [
            "{1: 10, 2: 20, 3: 30, 4: 40, 5: 50, 6: 60}\n"
          ]
        }
      ]
    },
    {
      "cell_type": "code",
      "source": [
        "# write your answer here \n",
        "#Create a set\n",
        "setn = {5, 10, 3, 15, 2, 20}\n",
        "print(\"Original set elements:\")\n",
        "print(setn)\n",
        "print(type(setn))\n",
        "print(\"\\nMaximum value of the said set:\")\n",
        "print(max(setn))\n",
        "print(\"\\nMinimum value of the said set:\")\n",
        "print(min(setn))"
      ],
      "metadata": {
        "colab": {
          "base_uri": "https://localhost:8080/"
        },
        "id": "n-yf6G_Sa8Gp",
        "outputId": "0e7f1a72-e047-4076-f090-c19fb8f5b3f8"
      },
      "execution_count": 7,
      "outputs": [
        {
          "output_type": "stream",
          "name": "stdout",
          "text": [
            "Original set elements:\n",
            "{2, 3, 5, 10, 15, 20}\n",
            "<class 'set'>\n",
            "\n",
            "Maximum value of the said set:\n",
            "20\n",
            "\n",
            "Minimum value of the said set:\n",
            "2\n"
          ]
        }
      ]
    },
    {
      "cell_type": "code",
      "source": [
        "# write your answer here\n",
        "def find_first_duplicate(nums):\n",
        "    num_set = set()\n",
        "    no_duplicate = -1\n",
        "\n",
        "    for i in range(len(nums)):\n",
        "\n",
        "        if nums[i] in num_set:\n",
        "            return nums[i]\n",
        "        else:\n",
        "            num_set.add(nums[i])\n",
        "\n",
        "    return no_duplicate\n",
        "\n",
        "print(find_first_duplicate([1, 2, 3, 4, 4, 5]))\n",
        "print(find_first_duplicate([1, 2, 3, 4]))\n",
        "print(find_first_duplicate([1, 1, 2, 3, 3, 2, 2]))"
      ],
      "metadata": {
        "colab": {
          "base_uri": "https://localhost:8080/"
        },
        "id": "_Kx74Ylia9hv",
        "outputId": "de472d12-b322-4a93-dca3-13aec20ad375"
      },
      "execution_count": 8,
      "outputs": [
        {
          "output_type": "stream",
          "name": "stdout",
          "text": [
            "4\n",
            "-1\n",
            "1\n"
          ]
        }
      ]
    }
  ]
}