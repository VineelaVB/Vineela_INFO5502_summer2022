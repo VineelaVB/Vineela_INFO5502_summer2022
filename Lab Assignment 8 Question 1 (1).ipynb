{
  "metadata": {
    "language_info": {
      "codemirror_mode": {
        "name": "python",
        "version": 3
      },
      "file_extension": ".py",
      "mimetype": "text/x-python",
      "name": "python",
      "nbconvert_exporter": "python",
      "pygments_lexer": "ipython3",
      "version": "3.8"
    },
    "kernelspec": {
      "name": "python",
      "display_name": "Python (Pyodide)",
      "language": "python"
    }
  },
  "nbformat_minor": 5,
  "nbformat": 4,
  "cells": [
    {
      "cell_type": "markdown",
      "source": "**\\#\\#\\# Question 1 (10 points)**\n\nDuring the 1980s, the general consensus is that about 5% of the nation’s\nchildren had autism. Some claimed that increases certain chemicals in\nthe environment has led to an increase in autism.\n\n\\(1\\) Write an appropriate hypothesis test for this situation (5\npoints).  \n\n\\(2\\) Give an appropriate test for this hypothesis, stating what are the\nnecessary conditions for performing the test (5 points).\n\n\\(3\\) A recent study examined 384 children and found that 46 showed\nsigns of autism. Perform a test of the hypothesis and state the p-value\n(5 points).\n\n(1)Ho:p=0.05\n\nvs\n\nH1:p\\>0.05\n\n(2)The test to conduct is one sample test of proportions. The test\nstatistic is given by:\n\n<img src=\"attachment:vertopal_db9d36734e764ec292576a920b2928b2/media/image1.png\" style=\"width:1.58333in;height:0.88194in\" alt=\"-Po Z= Po(1 – po/n\" />\n\nz is test statistic\n\np̂ is observed proportion\n\nP<sub>0</sub> is hypothesized probability\n\nn is sample size.\n\nProcedure:\n\n1.State the null hypothesis and alternative hypothesis\n\n2.State alpha, in other words determine the significance level\n\n3.Compute the test statistic\n\n4.Determine the critical value (from critical value table)\n\n5.Define the rejection criteria\n\n6.Finally, interpret the result. If the test statistic falls in critical\nregion, reject the null hypothesis.\n\n(3)Given,\n\n<img src=\"attachment:vertopal_db9d36734e764ec292576a920b2928b2/media/image2.gif\" style=\"width:0.29167in;height:0.17361in\" alt=\"\\hat{p}=\" />46/384=0.11979\n\nn=384\n\nP<sub>0=0.05</sub>\n\n<sub>Plugging\\ in\\ all\\ values\\ in\\ formula\\ ,we\\ get</sub>\n\n<sub>So\\ test\\ statistic=6.274</sub>\n\nAt significance level of 0.05,p-value at z score of 6.274 is \\<0.0001\n\nSince p value \\<0.05,we reject the null hypothesis at significance level\nof 5 %.\n\nreject null hypothesis that population proportion = 0.05\n\nIn R language:\n\ndata: 46 out of 384, null probability 0.5\n\nX-squared = 220.52, df=1, p-value\\<2.2e-16\n\nAlternative hypothesis: true p is not equal to 0.5\n\n95 percent confidence interval:\n\n0.08988278 0.15753071\n\nSample estimates:\n\np\n\n0.1197917",
      "metadata": {},
      "attachments": {
        "vertopal_db9d36734e764ec292576a920b2928b2/media/image1.png": {
          "image/png": "[encoded data removed]"
        },
        "vertopal_db9d36734e764ec292576a920b2928b2/media/image2.gif": {
          "image/gif": "[encoded data removed]"
        }
      },
      "id": "cb90570c-c1d1-4258-b54f-bfe7508a367d"
    }
  ]
}