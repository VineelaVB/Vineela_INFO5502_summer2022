{
  "metadata": {
    "kernelspec": {
      "name": "python",
      "display_name": "Python (Pyodide)",
      "language": "python"
    },
    "language_info": {
      "codemirror_mode": {
        "name": "python",
        "version": 3
      },
      "file_extension": ".py",
      "mimetype": "text/x-python",
      "name": "python",
      "nbconvert_exporter": "python",
      "pygments_lexer": "ipython3",
      "version": "3.8"
    }
  },
  "nbformat_minor": 5,
  "nbformat": 4,
  "cells": [
    {
      "cell_type": "code",
      "source": "import pandas as pd\nimport numpy as np\nfrom sklearn.metrics import *\nfrom statsmodels.stats.inter_rater import fleiss_kappa\n\ndef coh(y1, y2, *, labels=None, weights=None, sample_weight=None):\n    confusion = confusion_matrix(y1, y2, labels=labels, sample_weight=sample_weight)\n    n_classes = confusion.shape[0]\n    sum0 = np.sum(confusion, axis=0)\n    sum1 = np.sum(confusion, axis=1)\n    expected = np.outer(sum0, sum1) / np.sum(sum0)\n\n    if weights is None:\n        w_mat = np.ones([n_classes, n_classes], dtype=int)\n        w_mat.flat[:: n_classes + 1] = 0\n    elif weights == \"linear\" or weights == \"quadratic\":\n        w_mat = np.zeros([n_classes, n_classes], dtype=int)\n        w_mat += np.arange(n_classes)\n        if weights == \"linear\":\n            w_mat = np.abs(w_mat - w_mat.T)\n        else:\n            w_mat = (w_mat - w_mat.T) ** 2\n    else:\n        raise ValueError(\"Unknown kappa weighting type.\")\n\n    k = np.sum(w_mat * confusion) / np.sum(w_mat * expected)\n    return 1 - k",
      "metadata": {},
      "execution_count": 21,
      "outputs": [],
      "id": "d79e8540"
    },
    {
      "cell_type": "code",
      "source": "path = \"/home/ysk/Downloads/lab8-assignment.csv\"",
      "metadata": {},
      "execution_count": 22,
      "outputs": [],
      "id": "c28fbdfa"
    },
    {
      "cell_type": "code",
      "source": "path",
      "metadata": {},
      "execution_count": 23,
      "outputs": [
        {
          "execution_count": 23,
          "output_type": "execute_result",
          "data": {
            "text/plain": [
              "'/home/ysk/Downloads/lab8-assignment.csv'"
            ]
          },
          "metadata": {}
        }
      ],
      "id": "b4c9f038"
    },
    {
      "cell_type": "code",
      "source": "df = pd.read_csv(path)",
      "metadata": {},
      "execution_count": 24,
      "outputs": [],
      "id": "f3414cc2"
    },
    {
      "cell_type": "code",
      "source": "df",
      "metadata": {},
      "execution_count": 25,
      "outputs": [
        {
          "execution_count": 25,
          "output_type": "execute_result",
          "data": {
            "text/html": [
              "<div>\n",
              "<style scoped>\n",
              "    .dataframe tbody tr th:only-of-type {\n",
              "        vertical-align: middle;\n",
              "    }\n",
              "\n",
              "    .dataframe tbody tr th {\n",
              "        vertical-align: top;\n",
              "    }\n",
              "\n",
              "    .dataframe thead th {\n",
              "        text-align: right;\n",
              "    }\n",
              "</style>\n",
              "<table border=\"1\" class=\"dataframe\">\n",
              "  <thead>\n",
              "    <tr style=\"text-align: right;\">\n",
              "      <th></th>\n",
              "      <th>Title of Article</th>\n",
              "      <th>Contributions</th>\n",
              "      <th>Source</th>\n",
              "      <th>Annotation1</th>\n",
              "      <th>Annotation2</th>\n",
              "      <th>Annotation3</th>\n",
              "      <th>Year</th>\n",
              "    </tr>\n",
              "  </thead>\n",
              "  <tbody>\n",
              "    <tr>\n",
              "      <th>0</th>\n",
              "      <td>The measurement of ÒinterdisciplinarityÓ and Ò...</td>\n",
              "      <td>In this study, we discuss recent advances in t...</td>\n",
              "      <td>JASIST</td>\n",
              "      <td>Algorithms/ Methods Construction or Optimization</td>\n",
              "      <td>Algorithms/ Methods Construction or Optimization</td>\n",
              "      <td>Algorithms/ Methods Construction or Optimization</td>\n",
              "      <td>NaN</td>\n",
              "    </tr>\n",
              "    <tr>\n",
              "      <th>1</th>\n",
              "      <td>Innovation adoption: Broadcasting versus virality</td>\n",
              "      <td>broadcasting and virality have similar diffusi...</td>\n",
              "      <td>JASIST</td>\n",
              "      <td>Theory proposal\\r\\n</td>\n",
              "      <td>Theory proposal\\r\\n</td>\n",
              "      <td>Theory proposal\\r\\n</td>\n",
              "      <td>NaN</td>\n",
              "    </tr>\n",
              "    <tr>\n",
              "      <th>2</th>\n",
              "      <td>Discovering underlying sensations of human emo...</td>\n",
              "      <td>we report the results of our study on sensatio...</td>\n",
              "      <td>JASIST</td>\n",
              "      <td>Theory proposal\\r\\n</td>\n",
              "      <td>Algorithms/ Methods Construction or Optimization</td>\n",
              "      <td>Theory proposal\\r\\n</td>\n",
              "      <td>NaN</td>\n",
              "    </tr>\n",
              "    <tr>\n",
              "      <th>3</th>\n",
              "      <td>Discovering underlying sensations of human emo...</td>\n",
              "      <td>in the second part of the paper, we define nov...</td>\n",
              "      <td>JASIST</td>\n",
              "      <td>Theory proposal\\r\\n</td>\n",
              "      <td>Theory proposal\\r\\n</td>\n",
              "      <td>Theory proposal\\r\\n</td>\n",
              "      <td>NaN</td>\n",
              "    </tr>\n",
              "    <tr>\n",
              "      <th>4</th>\n",
              "      <td>Discovering underlying sensations of human emo...</td>\n",
              "      <td>we design a method to classify texts into ones...</td>\n",
              "      <td>JASIST</td>\n",
              "      <td>Algorithms/ Methods Construction or Optimization</td>\n",
              "      <td>Model Construction or Optimization</td>\n",
              "      <td>Algorithms/ Methods Construction or Optimization</td>\n",
              "      <td>NaN</td>\n",
              "    </tr>\n",
              "    <tr>\n",
              "      <th>...</th>\n",
              "      <td>...</td>\n",
              "      <td>...</td>\n",
              "      <td>...</td>\n",
              "      <td>...</td>\n",
              "      <td>...</td>\n",
              "      <td>...</td>\n",
              "      <td>...</td>\n",
              "    </tr>\n",
              "    <tr>\n",
              "      <th>3393</th>\n",
              "      <td>The impact of personality traits on usersÕ inf...</td>\n",
              "      <td>Personality traits drive information seeking d...</td>\n",
              "      <td>IPM</td>\n",
              "      <td>Theory proposal\\r\\n</td>\n",
              "      <td>Theory proposal\\r\\n</td>\n",
              "      <td>Theory proposal\\r\\n</td>\n",
              "      <td>2017.0</td>\n",
              "    </tr>\n",
              "    <tr>\n",
              "      <th>3394</th>\n",
              "      <td>The impact of personality traits on usersÕ inf...</td>\n",
              "      <td>Eye-movement parameters can predict these patt...</td>\n",
              "      <td>IPM</td>\n",
              "      <td>Theory proposal\\r\\n</td>\n",
              "      <td>Theory proposal\\r\\n</td>\n",
              "      <td>Theory proposal\\r\\n</td>\n",
              "      <td>2017.0</td>\n",
              "    </tr>\n",
              "    <tr>\n",
              "      <th>3395</th>\n",
              "      <td>The impact of personality traits on usersÕ inf...</td>\n",
              "      <td>Prior domain knowledge improves older adultsÕ ...</td>\n",
              "      <td>IPM</td>\n",
              "      <td>Theory proposal\\r\\n</td>\n",
              "      <td>Theory proposal\\r\\n</td>\n",
              "      <td>Theory proposal\\r\\n</td>\n",
              "      <td>2017.0</td>\n",
              "    </tr>\n",
              "    <tr>\n",
              "      <th>3396</th>\n",
              "      <td>The impact of personality traits on usersÕ inf...</td>\n",
              "      <td>Unlike prior results, older adults were outper...</td>\n",
              "      <td>IPM</td>\n",
              "      <td>Theory proposal\\r\\n</td>\n",
              "      <td>Theory proposal\\r\\n</td>\n",
              "      <td>Theory proposal\\r\\n</td>\n",
              "      <td>2017.0</td>\n",
              "    </tr>\n",
              "    <tr>\n",
              "      <th>3397</th>\n",
              "      <td>The impact of personality traits on usersÕ inf...</td>\n",
              "      <td>In open-ended information problems, older adul...</td>\n",
              "      <td>IPM</td>\n",
              "      <td>Theory proposal\\r\\n</td>\n",
              "      <td>Theory proposal\\r\\n</td>\n",
              "      <td>Theory proposal\\r\\n</td>\n",
              "      <td>2017.0</td>\n",
              "    </tr>\n",
              "  </tbody>\n",
              "</table>\n",
              "<p>3398 rows × 7 columns</p>\n",
              "</div>"
            ],
            "text/plain": [
              "                                       Title of Article  \\\n",
              "0     The measurement of ÒinterdisciplinarityÓ and Ò...   \n",
              "1     Innovation adoption: Broadcasting versus virality   \n",
              "2     Discovering underlying sensations of human emo...   \n",
              "3     Discovering underlying sensations of human emo...   \n",
              "4     Discovering underlying sensations of human emo...   \n",
              "...                                                 ...   \n",
              "3393  The impact of personality traits on usersÕ inf...   \n",
              "3394  The impact of personality traits on usersÕ inf...   \n",
              "3395  The impact of personality traits on usersÕ inf...   \n",
              "3396  The impact of personality traits on usersÕ inf...   \n",
              "3397  The impact of personality traits on usersÕ inf...   \n",
              "\n",
              "                                          Contributions  Source  \\\n",
              "0     In this study, we discuss recent advances in t...  JASIST   \n",
              "1     broadcasting and virality have similar diffusi...  JASIST   \n",
              "2     we report the results of our study on sensatio...  JASIST   \n",
              "3     in the second part of the paper, we define nov...  JASIST   \n",
              "4     we design a method to classify texts into ones...  JASIST   \n",
              "...                                                 ...     ...   \n",
              "3393  Personality traits drive information seeking d...     IPM   \n",
              "3394  Eye-movement parameters can predict these patt...     IPM   \n",
              "3395  Prior domain knowledge improves older adultsÕ ...     IPM   \n",
              "3396  Unlike prior results, older adults were outper...     IPM   \n",
              "3397  In open-ended information problems, older adul...     IPM   \n",
              "\n",
              "                                           Annotation1  \\\n",
              "0     Algorithms/ Methods Construction or Optimization   \n",
              "1                                  Theory proposal\\r\\n   \n",
              "2                                  Theory proposal\\r\\n   \n",
              "3                                  Theory proposal\\r\\n   \n",
              "4     Algorithms/ Methods Construction or Optimization   \n",
              "...                                                ...   \n",
              "3393                               Theory proposal\\r\\n   \n",
              "3394                               Theory proposal\\r\\n   \n",
              "3395                               Theory proposal\\r\\n   \n",
              "3396                               Theory proposal\\r\\n   \n",
              "3397                               Theory proposal\\r\\n   \n",
              "\n",
              "                                           Annotation2  \\\n",
              "0     Algorithms/ Methods Construction or Optimization   \n",
              "1                                  Theory proposal\\r\\n   \n",
              "2     Algorithms/ Methods Construction or Optimization   \n",
              "3                                  Theory proposal\\r\\n   \n",
              "4                   Model Construction or Optimization   \n",
              "...                                                ...   \n",
              "3393                               Theory proposal\\r\\n   \n",
              "3394                               Theory proposal\\r\\n   \n",
              "3395                               Theory proposal\\r\\n   \n",
              "3396                               Theory proposal\\r\\n   \n",
              "3397                               Theory proposal\\r\\n   \n",
              "\n",
              "                                           Annotation3    Year  \n",
              "0     Algorithms/ Methods Construction or Optimization     NaN  \n",
              "1                                  Theory proposal\\r\\n     NaN  \n",
              "2                                  Theory proposal\\r\\n     NaN  \n",
              "3                                  Theory proposal\\r\\n     NaN  \n",
              "4     Algorithms/ Methods Construction or Optimization     NaN  \n",
              "...                                                ...     ...  \n",
              "3393                               Theory proposal\\r\\n  2017.0  \n",
              "3394                               Theory proposal\\r\\n  2017.0  \n",
              "3395                               Theory proposal\\r\\n  2017.0  \n",
              "3396                               Theory proposal\\r\\n  2017.0  \n",
              "3397                               Theory proposal\\r\\n  2017.0  \n",
              "\n",
              "[3398 rows x 7 columns]"
            ]
          },
          "metadata": {}
        }
      ],
      "id": "0f77fcd2"
    },
    {
      "cell_type": "code",
      "source": "df.Annotation1",
      "metadata": {},
      "execution_count": 26,
      "outputs": [
        {
          "execution_count": 26,
          "output_type": "execute_result",
          "data": {
            "text/plain": [
              "0       Algorithms/ Methods Construction or Optimization\n",
              "1                                    Theory proposal\\r\\n\n",
              "2                                    Theory proposal\\r\\n\n",
              "3                                    Theory proposal\\r\\n\n",
              "4       Algorithms/ Methods Construction or Optimization\n",
              "                              ...                       \n",
              "3393                                 Theory proposal\\r\\n\n",
              "3394                                 Theory proposal\\r\\n\n",
              "3395                                 Theory proposal\\r\\n\n",
              "3396                                 Theory proposal\\r\\n\n",
              "3397                                 Theory proposal\\r\\n\n",
              "Name: Annotation1, Length: 3398, dtype: object"
            ]
          },
          "metadata": {}
        }
      ],
      "id": "266f6de6"
    },
    {
      "cell_type": "code",
      "source": "coh(df.Annotation1, df.Annotation2)",
      "metadata": {},
      "execution_count": 27,
      "outputs": [
        {
          "execution_count": 27,
          "output_type": "execute_result",
          "data": {
            "text/plain": [
              "0.42830184648552283"
            ]
          },
          "metadata": {}
        }
      ],
      "id": "f919277e"
    },
    {
      "cell_type": "code",
      "source": "coh(df.Annotation2, df.Annotation3)",
      "metadata": {},
      "execution_count": 28,
      "outputs": [
        {
          "execution_count": 28,
          "output_type": "execute_result",
          "data": {
            "text/plain": [
              "0.5201725501326195"
            ]
          },
          "metadata": {}
        }
      ],
      "id": "44e33526"
    },
    {
      "cell_type": "code",
      "source": "coh(df.Annotation1, df.Annotation3)",
      "metadata": {},
      "execution_count": 29,
      "outputs": [
        {
          "execution_count": 29,
          "output_type": "execute_result",
          "data": {
            "text/plain": [
              "0.6699506558982792"
            ]
          },
          "metadata": {}
        }
      ],
      "id": "939bdbc8"
    },
    {
      "cell_type": "code",
      "source": "fleiss_kappa([df.Annotation1, df.Annotation2, df.Annotation3])",
      "metadata": {},
      "execution_count": 32,
      "outputs": [],
      "id": "caedbccb"
    },
    {
      "cell_type": "code",
      "source": "",
      "metadata": {},
      "execution_count": null,
      "outputs": [],
      "id": "085dabd5"
    },
    {
      "cell_type": "code",
      "source": "",
      "metadata": {},
      "execution_count": null,
      "outputs": [],
      "id": "208002bb"
    }
  ]
}