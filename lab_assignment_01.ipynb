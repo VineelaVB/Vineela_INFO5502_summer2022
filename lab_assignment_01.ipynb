{
  "cells": [
    {
      "cell_type": "markdown",
      "metadata": {
        "id": "view-in-github",
        "colab_type": "text"
      },
      "source": [
        "<a href=\"https://colab.research.google.com/github/VineelaVB/Vineela_INFO5502_summer2022/blob/main/lab_assignment_01.ipynb\" target=\"_parent\"><img src=\"https://colab.research.google.com/assets/colab-badge.svg\" alt=\"Open In Colab\"/></a>"
      ]
    },
    {
      "cell_type": "markdown",
      "metadata": {
        "id": "DymRJbxDBCnf"
      },
      "source": [
        "# **The first Lab-assignment (07/15/2022 11:59'AM' to 7/19/2022 11:59PM, 50 points in total)**"
      ]
    },
    {
      "cell_type": "markdown",
      "metadata": {
        "id": "jJDe71iLB616"
      },
      "source": [
        "(1) Write a Python program to count the number of characters in a string. (6 points)\n",
        "\n",
        "Sample String : 'google.com', \n",
        "\n",
        "Expected Result : {'o': 3, 'g': 2, '.': 1, 'e': 1, 'l': 1, 'm': 1, 'c': 1}"
      ]
    },
    {
      "cell_type": "code",
      "execution_count": 1,
      "metadata": {
        "colab": {
          "base_uri": "https://localhost:8080/"
        },
        "id": "MtKskTzbCLaU",
        "outputId": "d17e5ebd-15be-4948-fbca-b40db9dc9000"
      },
      "outputs": [
        {
          "output_type": "stream",
          "name": "stdout",
          "text": [
            "Google\n",
            "{'G': 1, 'o': 2, 'g': 1, 'l': 1, 'e': 1}\n"
          ]
        }
      ],
      "source": [
        "# write your answer here\n",
        "\n",
        "def char_frequency(str1):\n",
        "    dict = {}\n",
        "    for n in str1:\n",
        "        keys = dict.keys()\n",
        "        if n in keys:\n",
        "            dict[n] += 1\n",
        "        else:\n",
        "            dict[n] = 1\n",
        "    return dict\n",
        "name = input()\n",
        "\n",
        "print(char_frequency(name))\n"
      ]
    },
    {
      "cell_type": "markdown",
      "metadata": {
        "id": "55W9AMdXCSpV"
      },
      "source": [
        "(2) Write a Python program to sum all the items in a list. (6 points)"
      ]
    },
    {
      "cell_type": "code",
      "execution_count": 10,
      "metadata": {
        "colab": {
          "base_uri": "https://localhost:8080/"
        },
        "id": "I57NXsauCec2",
        "outputId": "868d9507-b959-42c2-fbda-38d38b1ed901"
      },
      "outputs": [
        {
          "output_type": "stream",
          "name": "stdout",
          "text": [
            "Enter number of elements : 5\n",
            "2\n",
            "3\n",
            "2\n",
            "4\n",
            "4\n",
            "15\n"
          ]
        }
      ],
      "source": [
        "# write your answer here\n",
        "\n",
        "\n",
        "# Python program to find sum of elements in list\n",
        " \n",
        "# creating a list\n",
        "lst = []\n",
        "  \n",
        "# number of elements as input\n",
        "n = int(input(\"Enter number of elements : \"))\n",
        "  \n",
        "# iterating till the range\n",
        "for i in range(0, n):\n",
        "    ele = int(input())\n",
        "  \n",
        "    lst.append(ele)\n",
        "\n",
        " \n",
        "# using sum() function\n",
        "total = sum(lst)\n",
        " \n",
        "# printing total value\n",
        "print(total)"
      ]
    },
    {
      "cell_type": "markdown",
      "metadata": {
        "id": "4ulBZ6yhCi9F"
      },
      "source": [
        "(3) Write a Python program to get a string from a given string where all occurrences of its first char have been changed to '\\$', except the first char itself. (6 points)\n",
        "\n",
        "Sample String : 'restart', \n",
        "\n",
        "Expected Result : 'resta\\$t'"
      ]
    },
    {
      "cell_type": "code",
      "execution_count": 11,
      "metadata": {
        "id": "Fj0XhwbBCw2o",
        "colab": {
          "base_uri": "https://localhost:8080/"
        },
        "outputId": "53b6c245-a36c-410b-e947-122265394934"
      },
      "outputs": [
        {
          "output_type": "stream",
          "name": "stdout",
          "text": [
            "restart\n",
            "resta$t\n"
          ]
        }
      ],
      "source": [
        "# write your answer here\n",
        "def change_char(str1):\n",
        "  char = str1[0]\n",
        "  str1 = str1.replace(char, '$')\n",
        "  str1 = char + str1[1:]\n",
        "\n",
        "  return str1\n",
        "name = input()\n",
        "print(change_char(name))"
      ]
    },
    {
      "cell_type": "markdown",
      "metadata": {
        "id": "_bIP7s1MCzue"
      },
      "source": [
        "(4) Write a program with python which could accept two parameter a and b to calculate and output the result of S, where \n",
        "\n",
        "$\\ S=3.14*(1+a/b)^3$ (6 points)\n",
        "\n"
      ]
    },
    {
      "cell_type": "code",
      "execution_count": 12,
      "metadata": {
        "colab": {
          "base_uri": "https://localhost:8080/"
        },
        "id": "w79QilHXD3Mg",
        "outputId": "44942f4c-9bce-472b-c136-72737e817d35"
      },
      "outputs": [
        {
          "output_type": "stream",
          "name": "stdout",
          "text": [
            "3\n",
            "1\n",
            "87.92\n"
          ]
        }
      ],
      "source": [
        "# write your answer here\n",
        "\n",
        "a=int(input())\n",
        "b=int(input())\n",
        "S=3.14*(b**3+a**3)/(b**3)\n",
        "print(S)"
      ]
    },
    {
      "cell_type": "markdown",
      "metadata": {
        "id": "xCa2bK9aD4Q3"
      },
      "source": [
        "(5) Write a Python program to concatenate following dictionaries to create a new one. (6 points)\n",
        "\n",
        "Sample Dictionary : dic1={1:10, 2:20}, dic2={3:30, 4:40}, dic3={5:50,6:60}, \n",
        "\n",
        "Expected Result : {1: 10, 2: 20, 3: 30, 4: 40, 5: 50, 6: 60}\n"
      ]
    },
    {
      "cell_type": "code",
      "execution_count": 13,
      "metadata": {
        "id": "_z4aLqAbEET1",
        "colab": {
          "base_uri": "https://localhost:8080/"
        },
        "outputId": "7a75037a-c263-496a-f851-8379b7a860c0"
      },
      "outputs": [
        {
          "output_type": "stream",
          "name": "stdout",
          "text": [
            "{1: 10, 2: 20, 3: 30, 4: 40, 5: 50, 6: 60}\n"
          ]
        }
      ],
      "source": [
        "# write your answer here\n",
        "dic1={1:10, 2:20}\n",
        "dic2={3:30, 4:40}\n",
        "dic3={5:50,6:60}\n",
        "dic4 = {}\n",
        "for d in (dic1, dic2, dic3): dic4.update(d)\n",
        "print(dic4)\n"
      ]
    },
    {
      "cell_type": "markdown",
      "metadata": {
        "id": "0v48Vqa7FrQh"
      },
      "source": [
        "(6) Write a Python program to check whether an element exists within a tuple. (6 points)"
      ]
    },
    {
      "cell_type": "code",
      "execution_count": 14,
      "metadata": {
        "id": "7WEmgq-DF2P1",
        "colab": {
          "base_uri": "https://localhost:8080/"
        },
        "outputId": "d2af5e7d-aa4c-41e4-ec01-4ba752abbe84"
      },
      "outputs": [
        {
          "output_type": "stream",
          "name": "stdout",
          "text": [
            "True\n",
            "False\n"
          ]
        }
      ],
      "source": [
        "# write your answer here\n",
        "\n",
        "tuplex = (\"w\", 3, \"r\", \"e\", \"s\", \"o\", \"u\", \"r\", \"c\", \"e\")\n",
        "print(\"r\" in tuplex)\n",
        "print(5 in tuplex)"
      ]
    },
    {
      "cell_type": "markdown",
      "metadata": {
        "id": "vD5PYLMuGga_"
      },
      "source": [
        "(7) Write a Python program to find maximum and the minimum value in a set. (6 points)"
      ]
    },
    {
      "cell_type": "code",
      "execution_count": 15,
      "metadata": {
        "id": "t0D5kdJUGjjw",
        "colab": {
          "base_uri": "https://localhost:8080/"
        },
        "outputId": "3ec7d560-fee6-449f-9261-8daa2afcee64"
      },
      "outputs": [
        {
          "output_type": "stream",
          "name": "stdout",
          "text": [
            "Original set elements:\n",
            "{2, 3, 5, 10, 15, 20}\n",
            "<class 'set'>\n",
            "\n",
            "Maximum value of the said set:\n",
            "20\n",
            "\n",
            "Minimum value of the said set:\n",
            "2\n"
          ]
        }
      ],
      "source": [
        "# write your answer here \n",
        "#Create a set\n",
        "setn = {5, 10, 3, 15, 2, 20}\n",
        "print(\"Original set elements:\")\n",
        "print(setn)\n",
        "print(type(setn))\n",
        "print(\"\\nMaximum value of the said set:\")\n",
        "print(max(setn))\n",
        "print(\"\\nMinimum value of the said set:\")\n",
        "print(min(setn))"
      ]
    },
    {
      "cell_type": "markdown",
      "metadata": {
        "id": "uFqP43c-JESe"
      },
      "source": [
        "(8) Write a Python program to find the duplicate elements in a given array of integers. Return -1 If there are no such elements. (8 points)"
      ]
    },
    {
      "cell_type": "code",
      "execution_count": 16,
      "metadata": {
        "id": "cSEha7SmJESe",
        "colab": {
          "base_uri": "https://localhost:8080/"
        },
        "outputId": "1d6af304-6a7a-4f7d-f8d1-fc4f985e4b7f"
      },
      "outputs": [
        {
          "output_type": "stream",
          "name": "stdout",
          "text": [
            "4\n",
            "-1\n",
            "1\n"
          ]
        }
      ],
      "source": [
        "# write your answer here\n",
        "def find_first_duplicate(nums):\n",
        "    num_set = set()\n",
        "    no_duplicate = -1\n",
        "\n",
        "    for i in range(len(nums)):\n",
        "\n",
        "        if nums[i] in num_set:\n",
        "            return nums[i]\n",
        "        else:\n",
        "            num_set.add(nums[i])\n",
        "\n",
        "    return no_duplicate\n",
        "\n",
        "print(find_first_duplicate([1, 2, 3, 4, 4, 5]))\n",
        "print(find_first_duplicate([1, 2, 3, 4]))\n",
        "print(find_first_duplicate([1, 1, 2, 3, 3, 2, 2]))"
      ]
    }
  ],
  "metadata": {
    "colab": {
      "collapsed_sections": [],
      "name": "lab_assignment_01.ipynb",
      "provenance": [],
      "include_colab_link": true
    },
    "kernelspec": {
      "display_name": "Python 3 (ipykernel)",
      "language": "python",
      "name": "python3"
    },
    "language_info": {
      "codemirror_mode": {
        "name": "ipython",
        "version": 3
      },
      "file_extension": ".py",
      "mimetype": "text/x-python",
      "name": "python",
      "nbconvert_exporter": "python",
      "pygments_lexer": "ipython3",
      "version": "3.9.12"
    },
    "vscode": {
      "interpreter": {
        "hash": "5c6a7f839effdddf35473dacbb9a8184e57ebbba5133cab03b12e4f28d4f0d0f"
      }
    }
  },
  "nbformat": 4,
  "nbformat_minor": 0
}