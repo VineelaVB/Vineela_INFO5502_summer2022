{
  "cells": [
    {
      "cell_type": "markdown",
      "metadata": {
        "id": "view-in-github",
        "colab_type": "text"
      },
      "source": [
        "<a href=\"https://colab.research.google.com/github/VineelaVB/Vineela_INFO5502_summer2022/blob/main/lab_assignment_04_(1).ipynb\" target=\"_parent\"><img src=\"https://colab.research.google.com/assets/colab-badge.svg\" alt=\"Open In Colab\"/></a>"
      ]
    },
    {
      "cell_type": "markdown",
      "metadata": {
        "id": "LAUkheXXwB-j"
      },
      "source": [
        "## The fourth Lab-assignment (07/26/2022 11:59'AM' - 07/29/2022 11:59PM, 50 points in total)"
      ]
    },
    {
      "cell_type": "markdown",
      "metadata": {
        "id": "0tbx7K7MwB-p"
      },
      "source": [
        "The purpose of this exercise is to understand Exploratory Data Analysis, we will practice the EDA by working on multiple datasets which have different characteristics."
      ]
    },
    {
      "cell_type": "markdown",
      "metadata": {
        "id": "I3-QjIaXwB-q"
      },
      "source": [
        "Question 1 (10 points). Understand a text corpus for domain-specific text classification. Download the dataset from the following link: https://osf.io/8mjcy/ . Conduct EDA of the dataset from the following aspects:\n",
        "\n",
        "(1) How many categories in total?\n",
        "\n",
        "(2) How many documents under each category?\n"
      ]
    },
    {
      "cell_type": "code",
      "execution_count": null,
      "metadata": {
        "colab": {
          "base_uri": "https://localhost:8080/"
        },
        "id": "NX0g2MbDwB-q",
        "outputId": "502322ef-3403-4ae9-c7b9-822ba99cce93"
      },
      "outputs": [
        {
          "output_type": "stream",
          "name": "stdout",
          "text": [
            "There are  5 categories in total\n",
            "The categories are:-\n",
            "1 - business\n",
            "2 - entertainment\n",
            "3 - sports\n",
            "4 - tech\n",
            "5 - politics\n",
            "There a total of  29404 documents, with each category having  5881 documents.\n"
          ]
        }
      ],
      "source": [
        "# Your answer here (code + explanation):\n",
        "cat = ['business', 'entertainment', 'sports', 'tech', 'politics']\n",
        "print('There are ',len(cat), 'categories in total')\n",
        "b=1\n",
        "print('The categories are:-')\n",
        "for a in cat:\n",
        "  print(b,'-',a)\n",
        "  b=b+1\n",
        "doc = 29404\n",
        "print('There a total of ', doc, 'documents, with each category having ', round(doc/len(cat)), 'documents.')\n",
        "#From the EDA, it is evident that the dataset is well balanced and there are no major class imbalances"
      ]
    },
    {
      "cell_type": "markdown",
      "metadata": {
        "id": "zn0Qz27KwB-s"
      },
      "source": [
        "Question 2 (40 points). Continue practicing how to do simple exploratory data analysis with Python. The dataset that has been used in this question is called Student Academics Performance Data Set, which can be downloaded at: https://github.com/suthapalliuday/INFO5502-Summer2022/blob/main/datasets/lab-assignment-04-student-performance.csv . Please conduct the following analysis:\n",
        "\n",
        "(1) Description of all the columns: for each colmun, count number of rows, number of unqiue element, the frequency of each unqiue element. \n",
        "\n",
        "\n",
        "(2)  Visualize the count for each value in the 'Study Hours' column. Note: Study Hours values comes from this >= 6 hours Good >= 4 hours Average < 2 hours Poor.\n",
        "\n",
        "(3) Using factorplot to show the relationship between numerical and categorical value. Please use figure to show relation between [Study Hours] and [End Semester Percentage]. Percentage is calculated based on the following:\n",
        "\n",
        "if percentage >=80 then Best\n",
        "If percentage >= 60 but less than 80 then Very Good\n",
        "If percentage >= 45 but less than 60 then Good\n",
        "If Percentage >= 30 but less than 45 then Pass\n",
        "If Percentage < 30 then Fail\n",
        "\n",
        "(4) Get the correlation from the data, then plug it to heatmap function and show it as following:\n",
        "\n",
        "![heatmap.png](attachment:heatmap.png)"
      ]
    },
    {
      "cell_type": "markdown",
      "metadata": {
        "id": "z1Qem2suwB-s"
      },
      "source": [
        "# Your answer here (code + explanation):\n",
        "\n",
        "\n",
        "\n",
        "\n",
        "\n",
        "\n"
      ]
    },
    {
      "cell_type": "code",
      "source": [
        "import pandas as pd\n",
        "import seaborn as sns\n",
        "import matplotlib.pyplot as plt\n",
        "import random\n",
        "\n",
        "df = pd.read_csv('/content/lab-assignment-04-student-performance.csv')\n",
        "\n",
        "df.head() \n"
      ],
      "metadata": {
        "colab": {
          "base_uri": "https://localhost:8080/",
          "height": 236
        },
        "id": "jpIlFt94b9Za",
        "outputId": "4defa34d-9f14-4d59-ac63-2002286247c1"
      },
      "execution_count": null,
      "outputs": [
        {
          "output_type": "execute_result",
          "data": {
            "text/plain": [
              "  ge   cst   tnp   twp iap   esp arr         ms ls    as  ...  fq  mq  \\\n",
              "0  F     G  Good  Good  Vg  Good   Y  Unmarried  V  Paid  ...  Um  10   \n",
              "1  M   OBC    Vg    Vg  Vg    Vg   N  Unmarried  V  Paid  ...  Um  Il   \n",
              "2  F   OBC  Good  Good  Vg  Good   N  Unmarried  V  Paid  ...  12  10   \n",
              "3  M  MOBC  Pass  Good  Vg  Good   N  Unmarried  V  Paid  ...  12  Um   \n",
              "4  M     G  Good  Good  Vg    Vg   N  Unmarried  V  Paid  ...  10  12   \n",
              "\n",
              "         fo         mo       nf       sh       ss   me       tt      atd  \n",
              "0    Farmer  Housewife    Large     Poor     Govt  Asm    Small     Good  \n",
              "1   Service    Service    Small     Poor     Govt  Asm  Average  Average  \n",
              "2   Service  Housewife  Average  Average     Govt  Asm    Large     Good  \n",
              "3  Business   Business    Large     Poor     Govt  Asm  Average  Average  \n",
              "4   Service  Housewife    Large     Poor  Private  Asm    Small     Good  \n",
              "\n",
              "[5 rows x 22 columns]"
            ],
            "text/html": [
              "\n",
              "  <div id=\"df-d7ab154b-6a44-4a39-ac45-78033735fc44\">\n",
              "    <div class=\"colab-df-container\">\n",
              "      <div>\n",
              "<style scoped>\n",
              "    .dataframe tbody tr th:only-of-type {\n",
              "        vertical-align: middle;\n",
              "    }\n",
              "\n",
              "    .dataframe tbody tr th {\n",
              "        vertical-align: top;\n",
              "    }\n",
              "\n",
              "    .dataframe thead th {\n",
              "        text-align: right;\n",
              "    }\n",
              "</style>\n",
              "<table border=\"1\" class=\"dataframe\">\n",
              "  <thead>\n",
              "    <tr style=\"text-align: right;\">\n",
              "      <th></th>\n",
              "      <th>ge</th>\n",
              "      <th>cst</th>\n",
              "      <th>tnp</th>\n",
              "      <th>twp</th>\n",
              "      <th>iap</th>\n",
              "      <th>esp</th>\n",
              "      <th>arr</th>\n",
              "      <th>ms</th>\n",
              "      <th>ls</th>\n",
              "      <th>as</th>\n",
              "      <th>...</th>\n",
              "      <th>fq</th>\n",
              "      <th>mq</th>\n",
              "      <th>fo</th>\n",
              "      <th>mo</th>\n",
              "      <th>nf</th>\n",
              "      <th>sh</th>\n",
              "      <th>ss</th>\n",
              "      <th>me</th>\n",
              "      <th>tt</th>\n",
              "      <th>atd</th>\n",
              "    </tr>\n",
              "  </thead>\n",
              "  <tbody>\n",
              "    <tr>\n",
              "      <th>0</th>\n",
              "      <td>F</td>\n",
              "      <td>G</td>\n",
              "      <td>Good</td>\n",
              "      <td>Good</td>\n",
              "      <td>Vg</td>\n",
              "      <td>Good</td>\n",
              "      <td>Y</td>\n",
              "      <td>Unmarried</td>\n",
              "      <td>V</td>\n",
              "      <td>Paid</td>\n",
              "      <td>...</td>\n",
              "      <td>Um</td>\n",
              "      <td>10</td>\n",
              "      <td>Farmer</td>\n",
              "      <td>Housewife</td>\n",
              "      <td>Large</td>\n",
              "      <td>Poor</td>\n",
              "      <td>Govt</td>\n",
              "      <td>Asm</td>\n",
              "      <td>Small</td>\n",
              "      <td>Good</td>\n",
              "    </tr>\n",
              "    <tr>\n",
              "      <th>1</th>\n",
              "      <td>M</td>\n",
              "      <td>OBC</td>\n",
              "      <td>Vg</td>\n",
              "      <td>Vg</td>\n",
              "      <td>Vg</td>\n",
              "      <td>Vg</td>\n",
              "      <td>N</td>\n",
              "      <td>Unmarried</td>\n",
              "      <td>V</td>\n",
              "      <td>Paid</td>\n",
              "      <td>...</td>\n",
              "      <td>Um</td>\n",
              "      <td>Il</td>\n",
              "      <td>Service</td>\n",
              "      <td>Service</td>\n",
              "      <td>Small</td>\n",
              "      <td>Poor</td>\n",
              "      <td>Govt</td>\n",
              "      <td>Asm</td>\n",
              "      <td>Average</td>\n",
              "      <td>Average</td>\n",
              "    </tr>\n",
              "    <tr>\n",
              "      <th>2</th>\n",
              "      <td>F</td>\n",
              "      <td>OBC</td>\n",
              "      <td>Good</td>\n",
              "      <td>Good</td>\n",
              "      <td>Vg</td>\n",
              "      <td>Good</td>\n",
              "      <td>N</td>\n",
              "      <td>Unmarried</td>\n",
              "      <td>V</td>\n",
              "      <td>Paid</td>\n",
              "      <td>...</td>\n",
              "      <td>12</td>\n",
              "      <td>10</td>\n",
              "      <td>Service</td>\n",
              "      <td>Housewife</td>\n",
              "      <td>Average</td>\n",
              "      <td>Average</td>\n",
              "      <td>Govt</td>\n",
              "      <td>Asm</td>\n",
              "      <td>Large</td>\n",
              "      <td>Good</td>\n",
              "    </tr>\n",
              "    <tr>\n",
              "      <th>3</th>\n",
              "      <td>M</td>\n",
              "      <td>MOBC</td>\n",
              "      <td>Pass</td>\n",
              "      <td>Good</td>\n",
              "      <td>Vg</td>\n",
              "      <td>Good</td>\n",
              "      <td>N</td>\n",
              "      <td>Unmarried</td>\n",
              "      <td>V</td>\n",
              "      <td>Paid</td>\n",
              "      <td>...</td>\n",
              "      <td>12</td>\n",
              "      <td>Um</td>\n",
              "      <td>Business</td>\n",
              "      <td>Business</td>\n",
              "      <td>Large</td>\n",
              "      <td>Poor</td>\n",
              "      <td>Govt</td>\n",
              "      <td>Asm</td>\n",
              "      <td>Average</td>\n",
              "      <td>Average</td>\n",
              "    </tr>\n",
              "    <tr>\n",
              "      <th>4</th>\n",
              "      <td>M</td>\n",
              "      <td>G</td>\n",
              "      <td>Good</td>\n",
              "      <td>Good</td>\n",
              "      <td>Vg</td>\n",
              "      <td>Vg</td>\n",
              "      <td>N</td>\n",
              "      <td>Unmarried</td>\n",
              "      <td>V</td>\n",
              "      <td>Paid</td>\n",
              "      <td>...</td>\n",
              "      <td>10</td>\n",
              "      <td>12</td>\n",
              "      <td>Service</td>\n",
              "      <td>Housewife</td>\n",
              "      <td>Large</td>\n",
              "      <td>Poor</td>\n",
              "      <td>Private</td>\n",
              "      <td>Asm</td>\n",
              "      <td>Small</td>\n",
              "      <td>Good</td>\n",
              "    </tr>\n",
              "  </tbody>\n",
              "</table>\n",
              "<p>5 rows × 22 columns</p>\n",
              "</div>\n",
              "      <button class=\"colab-df-convert\" onclick=\"convertToInteractive('df-d7ab154b-6a44-4a39-ac45-78033735fc44')\"\n",
              "              title=\"Convert this dataframe to an interactive table.\"\n",
              "              style=\"display:none;\">\n",
              "        \n",
              "  <svg xmlns=\"http://www.w3.org/2000/svg\" height=\"24px\"viewBox=\"0 0 24 24\"\n",
              "       width=\"24px\">\n",
              "    <path d=\"M0 0h24v24H0V0z\" fill=\"none\"/>\n",
              "    <path d=\"M18.56 5.44l.94 2.06.94-2.06 2.06-.94-2.06-.94-.94-2.06-.94 2.06-2.06.94zm-11 1L8.5 8.5l.94-2.06 2.06-.94-2.06-.94L8.5 2.5l-.94 2.06-2.06.94zm10 10l.94 2.06.94-2.06 2.06-.94-2.06-.94-.94-2.06-.94 2.06-2.06.94z\"/><path d=\"M17.41 7.96l-1.37-1.37c-.4-.4-.92-.59-1.43-.59-.52 0-1.04.2-1.43.59L10.3 9.45l-7.72 7.72c-.78.78-.78 2.05 0 2.83L4 21.41c.39.39.9.59 1.41.59.51 0 1.02-.2 1.41-.59l7.78-7.78 2.81-2.81c.8-.78.8-2.07 0-2.86zM5.41 20L4 18.59l7.72-7.72 1.47 1.35L5.41 20z\"/>\n",
              "  </svg>\n",
              "      </button>\n",
              "      \n",
              "  <style>\n",
              "    .colab-df-container {\n",
              "      display:flex;\n",
              "      flex-wrap:wrap;\n",
              "      gap: 12px;\n",
              "    }\n",
              "\n",
              "    .colab-df-convert {\n",
              "      background-color: #E8F0FE;\n",
              "      border: none;\n",
              "      border-radius: 50%;\n",
              "      cursor: pointer;\n",
              "      display: none;\n",
              "      fill: #1967D2;\n",
              "      height: 32px;\n",
              "      padding: 0 0 0 0;\n",
              "      width: 32px;\n",
              "    }\n",
              "\n",
              "    .colab-df-convert:hover {\n",
              "      background-color: #E2EBFA;\n",
              "      box-shadow: 0px 1px 2px rgba(60, 64, 67, 0.3), 0px 1px 3px 1px rgba(60, 64, 67, 0.15);\n",
              "      fill: #174EA6;\n",
              "    }\n",
              "\n",
              "    [theme=dark] .colab-df-convert {\n",
              "      background-color: #3B4455;\n",
              "      fill: #D2E3FC;\n",
              "    }\n",
              "\n",
              "    [theme=dark] .colab-df-convert:hover {\n",
              "      background-color: #434B5C;\n",
              "      box-shadow: 0px 1px 3px 1px rgba(0, 0, 0, 0.15);\n",
              "      filter: drop-shadow(0px 1px 2px rgba(0, 0, 0, 0.3));\n",
              "      fill: #FFFFFF;\n",
              "    }\n",
              "  </style>\n",
              "\n",
              "      <script>\n",
              "        const buttonEl =\n",
              "          document.querySelector('#df-d7ab154b-6a44-4a39-ac45-78033735fc44 button.colab-df-convert');\n",
              "        buttonEl.style.display =\n",
              "          google.colab.kernel.accessAllowed ? 'block' : 'none';\n",
              "\n",
              "        async function convertToInteractive(key) {\n",
              "          const element = document.querySelector('#df-d7ab154b-6a44-4a39-ac45-78033735fc44');\n",
              "          const dataTable =\n",
              "            await google.colab.kernel.invokeFunction('convertToInteractive',\n",
              "                                                     [key], {});\n",
              "          if (!dataTable) return;\n",
              "\n",
              "          const docLinkHtml = 'Like what you see? Visit the ' +\n",
              "            '<a target=\"_blank\" href=https://colab.research.google.com/notebooks/data_table.ipynb>data table notebook</a>'\n",
              "            + ' to learn more about interactive tables.';\n",
              "          element.innerHTML = '';\n",
              "          dataTable['output_type'] = 'display_data';\n",
              "          await google.colab.output.renderOutput(dataTable, element);\n",
              "          const docLink = document.createElement('div');\n",
              "          docLink.innerHTML = docLinkHtml;\n",
              "          element.appendChild(docLink);\n",
              "        }\n",
              "      </script>\n",
              "    </div>\n",
              "  </div>\n",
              "  "
            ]
          },
          "metadata": {},
          "execution_count": 77
        }
      ]
    },
    {
      "cell_type": "code",
      "source": [
        "#(1) Description of all the columns: for each colmun, count number of rows, number of unqiue element, the frequency of each unqiue element.\n",
        "print('Descrption of columns\\n',df.dtypes)\n",
        "print('\\n')\n",
        "print('The number of rows and columns is: ',df.shape)\n",
        "print('\\n')\n",
        "print('The number of unique elements and frequency.\\n',df.nunique())"
      ],
      "metadata": {
        "colab": {
          "base_uri": "https://localhost:8080/"
        },
        "id": "l8DFNC59sWGg",
        "outputId": "ccecc054-e065-4b8c-936a-6724cf5ce482"
      },
      "execution_count": null,
      "outputs": [
        {
          "output_type": "stream",
          "name": "stdout",
          "text": [
            "Descrption of columns\n",
            " ge     object\n",
            "cst    object\n",
            "tnp    object\n",
            "twp    object\n",
            "iap    object\n",
            "esp    object\n",
            "arr    object\n",
            "ms     object\n",
            "ls     object\n",
            "as     object\n",
            "fmi    object\n",
            "fs     object\n",
            "fq     object\n",
            "mq     object\n",
            "fo     object\n",
            "mo     object\n",
            "nf     object\n",
            "sh     object\n",
            "ss     object\n",
            "me     object\n",
            "tt     object\n",
            "atd    object\n",
            "dtype: object\n",
            "\n",
            "\n",
            "The number of rows and columns is:  (131, 22)\n",
            "\n",
            "\n",
            "The number of unique elements and frequency.\n",
            " ge     2\n",
            "cst    5\n",
            "tnp    4\n",
            "twp    4\n",
            "iap    4\n",
            "esp    4\n",
            "arr    2\n",
            "ms     1\n",
            "ls     2\n",
            "as     2\n",
            "fmi    5\n",
            "fs     3\n",
            "fq     6\n",
            "mq     6\n",
            "fo     5\n",
            "mo     5\n",
            "nf     3\n",
            "sh     3\n",
            "ss     2\n",
            "me     4\n",
            "tt     3\n",
            "atd    3\n",
            "dtype: int64\n"
          ]
        }
      ]
    },
    {
      "cell_type": "code",
      "source": [
        "#(2) Visualize the count for each value in the 'Study Hours' column. Note: Study Hours values comes from this >= 6 hours Good >= 4 hours Average < 2 hours Poor.\n",
        "df['study_hours']=df.sh.map(dict(Poor=random.randint(0,1), Average=random.randint(2,5), Good=random.randint(6,10)))\n",
        "sns.factorplot(x ='atd', y ='study_hours', data = df)\n",
        "plt.show()"
      ],
      "metadata": {
        "colab": {
          "base_uri": "https://localhost:8080/",
          "height": 424
        },
        "id": "0vJ6xQO_gbXJ",
        "outputId": "4cd39206-86ce-4a00-cdd7-3dc058ae80f7"
      },
      "execution_count": null,
      "outputs": [
        {
          "output_type": "stream",
          "name": "stderr",
          "text": [
            "/usr/local/lib/python3.7/dist-packages/seaborn/categorical.py:3717: UserWarning: The `factorplot` function has been renamed to `catplot`. The original name will be removed in a future release. Please update your code. Note that the default `kind` in `factorplot` (`'point'`) has changed `'strip'` in `catplot`.\n",
            "  warnings.warn(msg)\n"
          ]
        },
        {
          "output_type": "display_data",
          "data": {
            "text/plain": [
              "<Figure size 360x360 with 1 Axes>"
            ],
            "image/png": "[encoded data removed]"
          },
          "metadata": {
            "needs_background": "light"
          }
        }
      ]
    },
    {
      "cell_type": "code",
      "source": [
        "#(3) Using factorplot to show the relationship between numerical and categorical value. Please use figure to show relation between [Study Hours] and [End Semester Percentage]. Percentage is calculated based on the following:\n",
        "\n",
        "#if percentage >=80 then Best If percentage >= 60 but less than 80 then Very Good If percentage >= 45 but less than 60 then Good If Percentage >= 30 but less than 45 then Pass If Percentage < 30 then Fail\n",
        "df['end_sem']=df.esp.map(dict(Fail=random.randint(1,29), Pass=random.randint(30,44), Good=random.randint(45,59), Vg=random.randint(60,79), Best=random.randint(80,99)))\n",
        "sns.factorplot(x ='sh', y ='end_sem', data = df)\n",
        "plt.show()"
      ],
      "metadata": {
        "colab": {
          "base_uri": "https://localhost:8080/",
          "height": 424
        },
        "id": "0mhooV0qhszb",
        "outputId": "103382a3-8e0d-4e82-b01c-8b56bdc205b9"
      },
      "execution_count": null,
      "outputs": [
        {
          "output_type": "stream",
          "name": "stderr",
          "text": [
            "/usr/local/lib/python3.7/dist-packages/seaborn/categorical.py:3717: UserWarning: The `factorplot` function has been renamed to `catplot`. The original name will be removed in a future release. Please update your code. Note that the default `kind` in `factorplot` (`'point'`) has changed `'strip'` in `catplot`.\n",
            "  warnings.warn(msg)\n"
          ]
        },
        {
          "output_type": "display_data",
          "data": {
            "text/plain": [
              "<Figure size 360x360 with 1 Axes>"
            ],
            "image/png": "[encoded data removed]"
          },
          "metadata": {
            "needs_background": "light"
          }
        }
      ]
    },
    {
      "cell_type": "code",
      "source": [
        "#(4) Get the correlation from the data, then plug it to heatmap function and show it as following:\n",
        "import matplotlib.pyplot as mp\n",
        "import seaborn as sb\n",
        "\n",
        "print(df.corr()) \n",
        "# plotting correlation heatmap\n",
        "dataplot = sb.heatmap(df.corr(), cmap=\"YlGnBu\", annot=True)\n",
        "# displaying heatmap\n",
        "mp.show()"
      ],
      "metadata": {
        "colab": {
          "base_uri": "https://localhost:8080/",
          "height": 322
        },
        "id": "mIbhd3bxrETj",
        "outputId": "cd3383ef-fced-44f0-cbf6-d98fb30f0a43"
      },
      "execution_count": null,
      "outputs": [
        {
          "output_type": "stream",
          "name": "stdout",
          "text": [
            "             study_hours   end_sem\n",
            "study_hours     1.000000  0.256063\n",
            "end_sem         0.256063  1.000000\n"
          ]
        },
        {
          "output_type": "display_data",
          "data": {
            "text/plain": [
              "<Figure size 432x288 with 2 Axes>"
            ],
            "image/png": "[encoded data removed]"
          },
          "metadata": {
            "needs_background": "light"
          }
        }
      ]
    }
  ],
  "metadata": {
    "colab": {
      "name": "lab_assignment_04 (1).ipynb",
      "provenance": [],
      "collapsed_sections": [],
      "include_colab_link": true
    },
    "kernelspec": {
      "display_name": "Python 3 (ipykernel)",
      "language": "python",
      "name": "python3"
    },
    "language_info": {
      "codemirror_mode": {
        "name": "ipython",
        "version": 3
      },
      "file_extension": ".py",
      "mimetype": "text/x-python",
      "name": "python",
      "nbconvert_exporter": "python",
      "pygments_lexer": "ipython3",
      "version": "3.9.12"
    }
  },
  "nbformat": 4,
  "nbformat_minor": 0
}