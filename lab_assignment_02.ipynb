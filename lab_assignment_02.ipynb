{
  "cells": [
    {
      "cell_type": "markdown",
      "metadata": {
        "id": "view-in-github",
        "colab_type": "text"
      },
      "source": [
        "<a href=\"https://colab.research.google.com/github/VineelaVB/Vineela_INFO5502_summer2022/blob/main/lab_assignment_02.ipynb\" target=\"_parent\"><img src=\"https://colab.research.google.com/assets/colab-badge.svg\" alt=\"Open In Colab\"/></a>"
      ]
    },
    {
      "cell_type": "markdown",
      "metadata": {
        "id": "Ryk8D1Q4Wsrp"
      },
      "source": [
        "# **The second Lab-assignment (07/19/2022 11:59'AM' - 07/22/2022 11:59PM, 50 points in total)**"
      ]
    },
    {
      "cell_type": "markdown",
      "metadata": {
        "id": "90_NR8c5XGWc"
      },
      "source": [
        "# Question 1\n",
        "\n",
        "(5 points). Write a Python program to generate 12 random numbers between 1 and 100. Sort the list of numbers in ascending order and print it out. Sort the list of numbers in descending order and print it out. Calculate the average for the group and print it out."
      ]
    },
    {
      "cell_type": "code",
      "execution_count": 1,
      "metadata": {
        "colab": {
          "base_uri": "https://localhost:8080/"
        },
        "id": "5QX6bJjGWXY9",
        "outputId": "98a46ced-ffd4-44e4-c001-c9c5981e085b"
      },
      "outputs": [
        {
          "output_type": "stream",
          "name": "stdout",
          "text": [
            "The list is:  [66, 15, 12, 97, 20, 19, 65, 23, 83, 16, 8, 95]\n",
            "List in ascending order:  [8, 12, 15, 16, 19, 20, 23, 65, 66, 83, 95, 97]\n",
            "List in descending order:  [97, 95, 83, 66, 65, 23, 20, 19, 16, 15, 12, 8]\n",
            "The average is:  43.25\n"
          ]
        }
      ],
      "source": [
        "# Your code here\n",
        "from random import randint\n",
        "for random_int in range(13):\n",
        "  rand_list = [randint(1, 100) for _ in range(random_int)]\n",
        "print('The list is: ', rand_list)\n",
        "rand_list.sort()\n",
        "print('List in ascending order: ', rand_list)\n",
        "#rev = rand_list.sort(reverse = True)\n",
        "rev=sorted(rand_list, reverse=True)\n",
        "print('List in descending order: ', rev)\n",
        "ave = sum(rev) / len(rev)\n",
        "print('The average is: ', ave)\n"
      ]
    },
    {
      "cell_type": "markdown",
      "metadata": {
        "id": "CmFoI4jDS9nx"
      },
      "source": [
        "# Question 2 \n",
        "\n",
        "(5 points). The formula that describes the volume V of a sphere with radius r is the following:\n",
        "\n",
        "$ V=\\frac{4}{3}\\ast\\ \\pi\\ast\\ r^3 $\n",
        "\n",
        "Write a program to calculate the value of V when r is in the range of 1–10. Output the result in the following format:\n",
        "\n",
        "\tr\tV\n",
        "\t1\t…\n",
        "\t2\t…\n",
        "\t3\t…\n"
      ]
    },
    {
      "cell_type": "code",
      "source": [
        "# Your code here\n",
        "import math\n",
        "print('r     V')\n",
        "for r in range(1,10):\n",
        "  V = 4/3 * math.pi * r**3\n",
        "  print(r, '   ', V)\n"
      ],
      "metadata": {
        "colab": {
          "base_uri": "https://localhost:8080/"
        },
        "id": "hZflIomnEEcc",
        "outputId": "e73aa201-18a3-4552-9bfb-21bad5e3be87"
      },
      "execution_count": 2,
      "outputs": [
        {
          "output_type": "stream",
          "name": "stdout",
          "text": [
            "r     V\n",
            "1     4.1887902047863905\n",
            "2     33.510321638291124\n",
            "3     113.09733552923254\n",
            "4     268.082573106329\n",
            "5     523.5987755982989\n",
            "6     904.7786842338603\n",
            "7     1436.7550402417319\n",
            "8     2144.660584850632\n",
            "9     3053.6280592892786\n"
          ]
        }
      ]
    },
    {
      "cell_type": "markdown",
      "metadata": {
        "id": "z3tBE7E-Xn5X"
      },
      "source": [
        "# Question 3\n",
        "\n",
        "(40 points). In the field of Data Science, data is often formatted as a comma-delimited (CSV) file, where each line in a file corresponds to a field's value. Refer to Chapter 9 (p. 106) for more information on comma-delimited files. To answer this question, you will need to download the file [lab_assignment_02_denton_housing.csv](https://github.com/suthapalliuday/INFO5502-Summer2022/blob/main/datasets/lab_assignment_02_denton_housing.csv) included with this assignment. The file [lab_assignment_02_denton_housing.csv](https://github.com/suthapalliuday/INFO5502-Summer2022/blob/main/datasets/lab_assignment_02_denton_housing.csv) contains statistics about housing in the city of Denton from 2008 to 2014. Write a program to implement the following questions.\n",
        "\n",
        "(1) (10 pts) Calculate the difference in the number of Occupied Housing Units from year to year and print it. The difference must be calculated for the consecutive years such as 2008-2009, 2009-2010 etc. Finally, print the values in the ascending order.\n",
        "\n",
        "(2) (10 pts) For all the years, calculate the percentage of housing units which are vacant an occupied. Print the results in the following format:\n",
        "\n",
        "Year Vacant Housing Units Occupied Housing Units\n",
        "\n",
        "    2008  30%   70%                          \n",
        "\t2009 ----- -----\n",
        "\t2010 ----- -----\n",
        "    2011 ----- -----\n",
        "\t2012 ----- -----\n",
        "    2013 ----- -----\n",
        "\t2014 ----- -----\n",
        "  \n",
        "  \n",
        "\n",
        "(3) (10 pts) Calculate and print the valued and years in which the highest number of housing units were vacant and occupied. Print the results in the following format:  \n",
        "\n",
        "                              Year\tValue\n",
        "\tVacant Housing Units\t  -----   -----\n",
        "\tOccupied Housing Units\t-----   -----\n",
        "\n",
        "(4) (10 pts) Calculate the harmonic mean of the total housing units and print it out. You can find the information about harmonic mean here: https://ncalculators.com/statistics/harmonic-mean-calculator.htm"
      ]
    },
    {
      "cell_type": "code",
      "execution_count": null,
      "metadata": {
        "colab": {
          "base_uri": "https://localhost:8080/"
        },
        "id": "lqGYuHBhcsRH",
        "outputId": "2f60b606-c529-4a79-c4b7-16a5f8fd77fd"
      },
      "outputs": [
        {
          "output_type": "stream",
          "name": "stdout",
          "text": [
            "Shape:  (42, 3)\n",
            "   year             title_field  value\n",
            "0  2014     Total Housing Units  49109\n",
            "1  2014    Vacant Housing Units   2814\n",
            "2  2014  Occupied Housing Units  46295\n",
            "3  2013     Total Housing Units  47888\n",
            "4  2013    Vacant Housing Units   4215\n",
            "Difference in the number of Occupied Housing Units from year to year:  [-5091, -2622, -1565, -1404, 303, 795]\n"
          ]
        }
      ],
      "source": [
        "# Your code here\n",
        "import pandas as pd\n",
        "import statistics\n",
        "\n",
        "data = pd.read_csv('/content/lab_assignment_02_denton_housing.csv')\n",
        "print('Shape: ',data.shape)\n",
        "print(data.head())\n",
        "\n",
        "\n",
        "# (1) Calculate the difference in the number of Occupied Housing Units from year to year and print it.\n",
        "# The difference must be calculated for the consecutive years such as 2008-2009, 2009-2010 etc.\n",
        "# Finally, print the values in the ascending order.\n",
        "\n",
        "# number of ocupied houses\n",
        "occuped_houses = data[data['title_field'] == 'Occupied Housing Units'].sort_values(by=['year'])\n",
        "\n",
        "# the difference in the number of Occupied Housing Units from year to year\n",
        "diff_house = [list(occuped_houses['value'].values)[loop1] - list(occuped_houses['value'].values)[loop1+1]\\\n",
        "              for loop1 in range(len(occuped_houses)-1)]\n",
        "diff_house = sorted(diff_house)    # sorting in ascending order\n",
        "print('Difference in the number of Occupied Housing Units from year to year: ',diff_house)\n",
        "\n",
        "\n",
        "\n",
        "\n",
        "\n"
      ]
    },
    {
      "cell_type": "code",
      "source": [
        "# (2) For all the years, calculate the percentage of housing units which are vacant and occupied.\n",
        "# Print the results in the following format: Year Vacant Housing Units Occupied Housing Units\n",
        "import numpy as np\n",
        "unique_years = sorted(list(data['year'].unique()))   # legging list of unique year number\n",
        "\n",
        "\n",
        "# number of ocupied houses\n",
        "occuped_houses = data[data['title_field'] == 'Occupied Housing Units'].sort_values(by=['year'])\n",
        "\n",
        "# number of vacant houses\n",
        "vacant_houses = data[data['title_field'] == 'Vacant Housing Units'].sort_values(by=['year'])\n",
        "\n",
        "new_house_df = pd.DataFrame()\n",
        "new_house_df['year'] = unique_years\n",
        "new_house_df['Vacant House'] = vacant_houses['value'].values\n",
        "new_house_df['Occupied House'] = occuped_houses['value'].values\n",
        "new_house_df['Percent of Vacant House'] = [(new_house_df['Vacant House'][loop1] * 100) /\\\n",
        "                                           (new_house_df['Vacant House'][loop1] + new_house_df['Occupied House'][loop1])\\\n",
        "                                           for loop1 in range(len(new_house_df))]\n",
        "new_house_df['Percent of Occupied House'] = [(new_house_df['Occupied House'][loop1] * 100) /\\\n",
        "                                           (new_house_df['Vacant House'][loop1] + new_house_df['Occupied House'][loop1])\\\n",
        "                                          for loop1 in range(len(new_house_df))]\n",
        "\n",
        "df = pd.DataFrame(new_house_df)\n",
        "df = df.drop(df.loc[:, ['Vacant House', 'Occupied House']], axis=1)\n",
        "df"
      ],
      "metadata": {
        "colab": {
          "base_uri": "https://localhost:8080/",
          "height": 269
        },
        "id": "5N3Oyy6fsDx5",
        "outputId": "e99252bb-fdbe-4af4-f564-4863ec3f34dd"
      },
      "execution_count": null,
      "outputs": [
        {
          "output_type": "execute_result",
          "data": {
            "text/plain": [
              "   year  Percent of Vacant House  Percent of Occupied House\n",
              "0  2008                10.882653                  89.117347\n",
              "1  2009                 9.071116                  90.928884\n",
              "2  2010                 8.142556                  91.857444\n",
              "3  2011                 9.379522                  90.620478\n",
              "4  2012                 6.677600                  93.322400\n",
              "5  2013                 8.801788                  91.198212\n",
              "6  2014                 5.730111                  94.269889"
            ],
            "text/html": [
              "\n",
              "  <div id=\"df-2b5aab9a-1412-493d-b3e6-ddd9fa911b59\">\n",
              "    <div class=\"colab-df-container\">\n",
              "      <div>\n",
              "<style scoped>\n",
              "    .dataframe tbody tr th:only-of-type {\n",
              "        vertical-align: middle;\n",
              "    }\n",
              "\n",
              "    .dataframe tbody tr th {\n",
              "        vertical-align: top;\n",
              "    }\n",
              "\n",
              "    .dataframe thead th {\n",
              "        text-align: right;\n",
              "    }\n",
              "</style>\n",
              "<table border=\"1\" class=\"dataframe\">\n",
              "  <thead>\n",
              "    <tr style=\"text-align: right;\">\n",
              "      <th></th>\n",
              "      <th>year</th>\n",
              "      <th>Percent of Vacant House</th>\n",
              "      <th>Percent of Occupied House</th>\n",
              "    </tr>\n",
              "  </thead>\n",
              "  <tbody>\n",
              "    <tr>\n",
              "      <th>0</th>\n",
              "      <td>2008</td>\n",
              "      <td>10.882653</td>\n",
              "      <td>89.117347</td>\n",
              "    </tr>\n",
              "    <tr>\n",
              "      <th>1</th>\n",
              "      <td>2009</td>\n",
              "      <td>9.071116</td>\n",
              "      <td>90.928884</td>\n",
              "    </tr>\n",
              "    <tr>\n",
              "      <th>2</th>\n",
              "      <td>2010</td>\n",
              "      <td>8.142556</td>\n",
              "      <td>91.857444</td>\n",
              "    </tr>\n",
              "    <tr>\n",
              "      <th>3</th>\n",
              "      <td>2011</td>\n",
              "      <td>9.379522</td>\n",
              "      <td>90.620478</td>\n",
              "    </tr>\n",
              "    <tr>\n",
              "      <th>4</th>\n",
              "      <td>2012</td>\n",
              "      <td>6.677600</td>\n",
              "      <td>93.322400</td>\n",
              "    </tr>\n",
              "    <tr>\n",
              "      <th>5</th>\n",
              "      <td>2013</td>\n",
              "      <td>8.801788</td>\n",
              "      <td>91.198212</td>\n",
              "    </tr>\n",
              "    <tr>\n",
              "      <th>6</th>\n",
              "      <td>2014</td>\n",
              "      <td>5.730111</td>\n",
              "      <td>94.269889</td>\n",
              "    </tr>\n",
              "  </tbody>\n",
              "</table>\n",
              "</div>\n",
              "      <button class=\"colab-df-convert\" onclick=\"convertToInteractive('df-2b5aab9a-1412-493d-b3e6-ddd9fa911b59')\"\n",
              "              title=\"Convert this dataframe to an interactive table.\"\n",
              "              style=\"display:none;\">\n",
              "        \n",
              "  <svg xmlns=\"http://www.w3.org/2000/svg\" height=\"24px\"viewBox=\"0 0 24 24\"\n",
              "       width=\"24px\">\n",
              "    <path d=\"M0 0h24v24H0V0z\" fill=\"none\"/>\n",
              "    <path d=\"M18.56 5.44l.94 2.06.94-2.06 2.06-.94-2.06-.94-.94-2.06-.94 2.06-2.06.94zm-11 1L8.5 8.5l.94-2.06 2.06-.94-2.06-.94L8.5 2.5l-.94 2.06-2.06.94zm10 10l.94 2.06.94-2.06 2.06-.94-2.06-.94-.94-2.06-.94 2.06-2.06.94z\"/><path d=\"M17.41 7.96l-1.37-1.37c-.4-.4-.92-.59-1.43-.59-.52 0-1.04.2-1.43.59L10.3 9.45l-7.72 7.72c-.78.78-.78 2.05 0 2.83L4 21.41c.39.39.9.59 1.41.59.51 0 1.02-.2 1.41-.59l7.78-7.78 2.81-2.81c.8-.78.8-2.07 0-2.86zM5.41 20L4 18.59l7.72-7.72 1.47 1.35L5.41 20z\"/>\n",
              "  </svg>\n",
              "      </button>\n",
              "      \n",
              "  <style>\n",
              "    .colab-df-container {\n",
              "      display:flex;\n",
              "      flex-wrap:wrap;\n",
              "      gap: 12px;\n",
              "    }\n",
              "\n",
              "    .colab-df-convert {\n",
              "      background-color: #E8F0FE;\n",
              "      border: none;\n",
              "      border-radius: 50%;\n",
              "      cursor: pointer;\n",
              "      display: none;\n",
              "      fill: #1967D2;\n",
              "      height: 32px;\n",
              "      padding: 0 0 0 0;\n",
              "      width: 32px;\n",
              "    }\n",
              "\n",
              "    .colab-df-convert:hover {\n",
              "      background-color: #E2EBFA;\n",
              "      box-shadow: 0px 1px 2px rgba(60, 64, 67, 0.3), 0px 1px 3px 1px rgba(60, 64, 67, 0.15);\n",
              "      fill: #174EA6;\n",
              "    }\n",
              "\n",
              "    [theme=dark] .colab-df-convert {\n",
              "      background-color: #3B4455;\n",
              "      fill: #D2E3FC;\n",
              "    }\n",
              "\n",
              "    [theme=dark] .colab-df-convert:hover {\n",
              "      background-color: #434B5C;\n",
              "      box-shadow: 0px 1px 3px 1px rgba(0, 0, 0, 0.15);\n",
              "      filter: drop-shadow(0px 1px 2px rgba(0, 0, 0, 0.3));\n",
              "      fill: #FFFFFF;\n",
              "    }\n",
              "  </style>\n",
              "\n",
              "      <script>\n",
              "        const buttonEl =\n",
              "          document.querySelector('#df-2b5aab9a-1412-493d-b3e6-ddd9fa911b59 button.colab-df-convert');\n",
              "        buttonEl.style.display =\n",
              "          google.colab.kernel.accessAllowed ? 'block' : 'none';\n",
              "\n",
              "        async function convertToInteractive(key) {\n",
              "          const element = document.querySelector('#df-2b5aab9a-1412-493d-b3e6-ddd9fa911b59');\n",
              "          const dataTable =\n",
              "            await google.colab.kernel.invokeFunction('convertToInteractive',\n",
              "                                                     [key], {});\n",
              "          if (!dataTable) return;\n",
              "\n",
              "          const docLinkHtml = 'Like what you see? Visit the ' +\n",
              "            '<a target=\"_blank\" href=https://colab.research.google.com/notebooks/data_table.ipynb>data table notebook</a>'\n",
              "            + ' to learn more about interactive tables.';\n",
              "          element.innerHTML = '';\n",
              "          dataTable['output_type'] = 'display_data';\n",
              "          await google.colab.output.renderOutput(dataTable, element);\n",
              "          const docLink = document.createElement('div');\n",
              "          docLink.innerHTML = docLinkHtml;\n",
              "          element.appendChild(docLink);\n",
              "        }\n",
              "      </script>\n",
              "    </div>\n",
              "  </div>\n",
              "  "
            ]
          },
          "metadata": {},
          "execution_count": 119
        }
      ]
    },
    {
      "cell_type": "code",
      "source": [
        "# (3) Calculate and print the valued and years in which the highest number of housing units were vacant and occupied.\n",
        "# Print the results in the following format:\n",
        "\n",
        "# the highest number of vacant housing units\n",
        "max_vacant_houses = max(data[data['title_field'] == 'Vacant Housing Units'].value)\n",
        "vacant_houses = vacant_houses[vacant_houses['value'] == max_vacant_houses]\n",
        "vacant_houses\n",
        "\n"
      ],
      "metadata": {
        "colab": {
          "base_uri": "https://localhost:8080/",
          "height": 81
        },
        "id": "VH_bhW4tsLpq",
        "outputId": "66447cba-f1a4-4bc3-ddd5-13a4b0fe9f77"
      },
      "execution_count": null,
      "outputs": [
        {
          "output_type": "execute_result",
          "data": {
            "text/plain": [
              "    year           title_field  value\n",
              "19  2008  Vacant Housing Units   4483"
            ],
            "text/html": [
              "\n",
              "  <div id=\"df-620ff447-7ad7-40ce-b3a8-29fea3081918\">\n",
              "    <div class=\"colab-df-container\">\n",
              "      <div>\n",
              "<style scoped>\n",
              "    .dataframe tbody tr th:only-of-type {\n",
              "        vertical-align: middle;\n",
              "    }\n",
              "\n",
              "    .dataframe tbody tr th {\n",
              "        vertical-align: top;\n",
              "    }\n",
              "\n",
              "    .dataframe thead th {\n",
              "        text-align: right;\n",
              "    }\n",
              "</style>\n",
              "<table border=\"1\" class=\"dataframe\">\n",
              "  <thead>\n",
              "    <tr style=\"text-align: right;\">\n",
              "      <th></th>\n",
              "      <th>year</th>\n",
              "      <th>title_field</th>\n",
              "      <th>value</th>\n",
              "    </tr>\n",
              "  </thead>\n",
              "  <tbody>\n",
              "    <tr>\n",
              "      <th>19</th>\n",
              "      <td>2008</td>\n",
              "      <td>Vacant Housing Units</td>\n",
              "      <td>4483</td>\n",
              "    </tr>\n",
              "  </tbody>\n",
              "</table>\n",
              "</div>\n",
              "      <button class=\"colab-df-convert\" onclick=\"convertToInteractive('df-620ff447-7ad7-40ce-b3a8-29fea3081918')\"\n",
              "              title=\"Convert this dataframe to an interactive table.\"\n",
              "              style=\"display:none;\">\n",
              "        \n",
              "  <svg xmlns=\"http://www.w3.org/2000/svg\" height=\"24px\"viewBox=\"0 0 24 24\"\n",
              "       width=\"24px\">\n",
              "    <path d=\"M0 0h24v24H0V0z\" fill=\"none\"/>\n",
              "    <path d=\"M18.56 5.44l.94 2.06.94-2.06 2.06-.94-2.06-.94-.94-2.06-.94 2.06-2.06.94zm-11 1L8.5 8.5l.94-2.06 2.06-.94-2.06-.94L8.5 2.5l-.94 2.06-2.06.94zm10 10l.94 2.06.94-2.06 2.06-.94-2.06-.94-.94-2.06-.94 2.06-2.06.94z\"/><path d=\"M17.41 7.96l-1.37-1.37c-.4-.4-.92-.59-1.43-.59-.52 0-1.04.2-1.43.59L10.3 9.45l-7.72 7.72c-.78.78-.78 2.05 0 2.83L4 21.41c.39.39.9.59 1.41.59.51 0 1.02-.2 1.41-.59l7.78-7.78 2.81-2.81c.8-.78.8-2.07 0-2.86zM5.41 20L4 18.59l7.72-7.72 1.47 1.35L5.41 20z\"/>\n",
              "  </svg>\n",
              "      </button>\n",
              "      \n",
              "  <style>\n",
              "    .colab-df-container {\n",
              "      display:flex;\n",
              "      flex-wrap:wrap;\n",
              "      gap: 12px;\n",
              "    }\n",
              "\n",
              "    .colab-df-convert {\n",
              "      background-color: #E8F0FE;\n",
              "      border: none;\n",
              "      border-radius: 50%;\n",
              "      cursor: pointer;\n",
              "      display: none;\n",
              "      fill: #1967D2;\n",
              "      height: 32px;\n",
              "      padding: 0 0 0 0;\n",
              "      width: 32px;\n",
              "    }\n",
              "\n",
              "    .colab-df-convert:hover {\n",
              "      background-color: #E2EBFA;\n",
              "      box-shadow: 0px 1px 2px rgba(60, 64, 67, 0.3), 0px 1px 3px 1px rgba(60, 64, 67, 0.15);\n",
              "      fill: #174EA6;\n",
              "    }\n",
              "\n",
              "    [theme=dark] .colab-df-convert {\n",
              "      background-color: #3B4455;\n",
              "      fill: #D2E3FC;\n",
              "    }\n",
              "\n",
              "    [theme=dark] .colab-df-convert:hover {\n",
              "      background-color: #434B5C;\n",
              "      box-shadow: 0px 1px 3px 1px rgba(0, 0, 0, 0.15);\n",
              "      filter: drop-shadow(0px 1px 2px rgba(0, 0, 0, 0.3));\n",
              "      fill: #FFFFFF;\n",
              "    }\n",
              "  </style>\n",
              "\n",
              "      <script>\n",
              "        const buttonEl =\n",
              "          document.querySelector('#df-620ff447-7ad7-40ce-b3a8-29fea3081918 button.colab-df-convert');\n",
              "        buttonEl.style.display =\n",
              "          google.colab.kernel.accessAllowed ? 'block' : 'none';\n",
              "\n",
              "        async function convertToInteractive(key) {\n",
              "          const element = document.querySelector('#df-620ff447-7ad7-40ce-b3a8-29fea3081918');\n",
              "          const dataTable =\n",
              "            await google.colab.kernel.invokeFunction('convertToInteractive',\n",
              "                                                     [key], {});\n",
              "          if (!dataTable) return;\n",
              "\n",
              "          const docLinkHtml = 'Like what you see? Visit the ' +\n",
              "            '<a target=\"_blank\" href=https://colab.research.google.com/notebooks/data_table.ipynb>data table notebook</a>'\n",
              "            + ' to learn more about interactive tables.';\n",
              "          element.innerHTML = '';\n",
              "          dataTable['output_type'] = 'display_data';\n",
              "          await google.colab.output.renderOutput(dataTable, element);\n",
              "          const docLink = document.createElement('div');\n",
              "          docLink.innerHTML = docLinkHtml;\n",
              "          element.appendChild(docLink);\n",
              "        }\n",
              "      </script>\n",
              "    </div>\n",
              "  </div>\n",
              "  "
            ]
          },
          "metadata": {},
          "execution_count": 127
        }
      ]
    },
    {
      "cell_type": "code",
      "source": [
        "# the highest number of Occupied housing units\n",
        "max_occuped_houses = max(data[data['title_field'] == 'Occupied Housing Units'].value)\n",
        "occupied_houses = occuped_houses[occuped_houses['value'] == max_occuped_houses]\n",
        "\n",
        "occupied_houses"
      ],
      "metadata": {
        "colab": {
          "base_uri": "https://localhost:8080/",
          "height": 81
        },
        "id": "--1x97VI-XiW",
        "outputId": "6f4981f7-57de-40e4-b020-949c8282fa8e"
      },
      "execution_count": null,
      "outputs": [
        {
          "output_type": "execute_result",
          "data": {
            "text/plain": [
              "   year             title_field  value\n",
              "2  2014  Occupied Housing Units  46295"
            ],
            "text/html": [
              "\n",
              "  <div id=\"df-be1028dc-4dee-4929-9501-9ac37ffd9bcb\">\n",
              "    <div class=\"colab-df-container\">\n",
              "      <div>\n",
              "<style scoped>\n",
              "    .dataframe tbody tr th:only-of-type {\n",
              "        vertical-align: middle;\n",
              "    }\n",
              "\n",
              "    .dataframe tbody tr th {\n",
              "        vertical-align: top;\n",
              "    }\n",
              "\n",
              "    .dataframe thead th {\n",
              "        text-align: right;\n",
              "    }\n",
              "</style>\n",
              "<table border=\"1\" class=\"dataframe\">\n",
              "  <thead>\n",
              "    <tr style=\"text-align: right;\">\n",
              "      <th></th>\n",
              "      <th>year</th>\n",
              "      <th>title_field</th>\n",
              "      <th>value</th>\n",
              "    </tr>\n",
              "  </thead>\n",
              "  <tbody>\n",
              "    <tr>\n",
              "      <th>2</th>\n",
              "      <td>2014</td>\n",
              "      <td>Occupied Housing Units</td>\n",
              "      <td>46295</td>\n",
              "    </tr>\n",
              "  </tbody>\n",
              "</table>\n",
              "</div>\n",
              "      <button class=\"colab-df-convert\" onclick=\"convertToInteractive('df-be1028dc-4dee-4929-9501-9ac37ffd9bcb')\"\n",
              "              title=\"Convert this dataframe to an interactive table.\"\n",
              "              style=\"display:none;\">\n",
              "        \n",
              "  <svg xmlns=\"http://www.w3.org/2000/svg\" height=\"24px\"viewBox=\"0 0 24 24\"\n",
              "       width=\"24px\">\n",
              "    <path d=\"M0 0h24v24H0V0z\" fill=\"none\"/>\n",
              "    <path d=\"M18.56 5.44l.94 2.06.94-2.06 2.06-.94-2.06-.94-.94-2.06-.94 2.06-2.06.94zm-11 1L8.5 8.5l.94-2.06 2.06-.94-2.06-.94L8.5 2.5l-.94 2.06-2.06.94zm10 10l.94 2.06.94-2.06 2.06-.94-2.06-.94-.94-2.06-.94 2.06-2.06.94z\"/><path d=\"M17.41 7.96l-1.37-1.37c-.4-.4-.92-.59-1.43-.59-.52 0-1.04.2-1.43.59L10.3 9.45l-7.72 7.72c-.78.78-.78 2.05 0 2.83L4 21.41c.39.39.9.59 1.41.59.51 0 1.02-.2 1.41-.59l7.78-7.78 2.81-2.81c.8-.78.8-2.07 0-2.86zM5.41 20L4 18.59l7.72-7.72 1.47 1.35L5.41 20z\"/>\n",
              "  </svg>\n",
              "      </button>\n",
              "      \n",
              "  <style>\n",
              "    .colab-df-container {\n",
              "      display:flex;\n",
              "      flex-wrap:wrap;\n",
              "      gap: 12px;\n",
              "    }\n",
              "\n",
              "    .colab-df-convert {\n",
              "      background-color: #E8F0FE;\n",
              "      border: none;\n",
              "      border-radius: 50%;\n",
              "      cursor: pointer;\n",
              "      display: none;\n",
              "      fill: #1967D2;\n",
              "      height: 32px;\n",
              "      padding: 0 0 0 0;\n",
              "      width: 32px;\n",
              "    }\n",
              "\n",
              "    .colab-df-convert:hover {\n",
              "      background-color: #E2EBFA;\n",
              "      box-shadow: 0px 1px 2px rgba(60, 64, 67, 0.3), 0px 1px 3px 1px rgba(60, 64, 67, 0.15);\n",
              "      fill: #174EA6;\n",
              "    }\n",
              "\n",
              "    [theme=dark] .colab-df-convert {\n",
              "      background-color: #3B4455;\n",
              "      fill: #D2E3FC;\n",
              "    }\n",
              "\n",
              "    [theme=dark] .colab-df-convert:hover {\n",
              "      background-color: #434B5C;\n",
              "      box-shadow: 0px 1px 3px 1px rgba(0, 0, 0, 0.15);\n",
              "      filter: drop-shadow(0px 1px 2px rgba(0, 0, 0, 0.3));\n",
              "      fill: #FFFFFF;\n",
              "    }\n",
              "  </style>\n",
              "\n",
              "      <script>\n",
              "        const buttonEl =\n",
              "          document.querySelector('#df-be1028dc-4dee-4929-9501-9ac37ffd9bcb button.colab-df-convert');\n",
              "        buttonEl.style.display =\n",
              "          google.colab.kernel.accessAllowed ? 'block' : 'none';\n",
              "\n",
              "        async function convertToInteractive(key) {\n",
              "          const element = document.querySelector('#df-be1028dc-4dee-4929-9501-9ac37ffd9bcb');\n",
              "          const dataTable =\n",
              "            await google.colab.kernel.invokeFunction('convertToInteractive',\n",
              "                                                     [key], {});\n",
              "          if (!dataTable) return;\n",
              "\n",
              "          const docLinkHtml = 'Like what you see? Visit the ' +\n",
              "            '<a target=\"_blank\" href=https://colab.research.google.com/notebooks/data_table.ipynb>data table notebook</a>'\n",
              "            + ' to learn more about interactive tables.';\n",
              "          element.innerHTML = '';\n",
              "          dataTable['output_type'] = 'display_data';\n",
              "          await google.colab.output.renderOutput(dataTable, element);\n",
              "          const docLink = document.createElement('div');\n",
              "          docLink.innerHTML = docLinkHtml;\n",
              "          element.appendChild(docLink);\n",
              "        }\n",
              "      </script>\n",
              "    </div>\n",
              "  </div>\n",
              "  "
            ]
          },
          "metadata": {},
          "execution_count": 149
        }
      ]
    },
    {
      "cell_type": "code",
      "source": [
        "# (4) Calculate the harmonic mean of the total housing units and print it out.\n",
        "\n",
        "print(statistics.harmonic_mean(list(data[data['title_field'] == 'Total Housing Units'].value)))"
      ],
      "metadata": {
        "colab": {
          "base_uri": "https://localhost:8080/"
        },
        "id": "oI-GW-kPsQan",
        "outputId": "cf3b8764-5c8b-47e9-928b-4211a82da288"
      },
      "execution_count": null,
      "outputs": [
        {
          "output_type": "stream",
          "name": "stdout",
          "text": [
            "44398.28543969185\n"
          ]
        }
      ]
    }
  ],
  "metadata": {
    "colab": {
      "collapsed_sections": [],
      "name": "lab_assignment_02.ipynb",
      "provenance": [],
      "include_colab_link": true
    },
    "kernelspec": {
      "display_name": "Python 3 (ipykernel)",
      "language": "python",
      "name": "python3"
    },
    "language_info": {
      "codemirror_mode": {
        "name": "ipython",
        "version": 3
      },
      "file_extension": ".py",
      "mimetype": "text/x-python",
      "name": "python",
      "nbconvert_exporter": "python",
      "pygments_lexer": "ipython3",
      "version": "3.9.12"
    }
  },
  "nbformat": 4,
  "nbformat_minor": 0
}